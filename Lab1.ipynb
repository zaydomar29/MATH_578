{
 "cells": [
  {
   "cell_type": "code",
   "execution_count": 1,
   "metadata": {},
   "outputs": [],
   "source": [
    "# Lab1\n",
    "# Part 1\n",
    "# In this part we run a series of simulations to study the growth factor of GEM"
   ]
  },
  {
   "cell_type": "code",
   "execution_count": 2,
   "metadata": {},
   "outputs": [],
   "source": [
    "# We first need to write a function that does \n",
    "# GEM for us with partial pivoting\n",
    "\n",
    "\n",
    "def GEM(n,mu,sigma):\n",
    "    m =  np.random.normal(mu,sigma,[n,n]) \n",
    "    for i in range(0,n-1):\n",
    "        if i == 0:\n",
    "            U = m\n",
    "            M_tot = np.eye(n)\n",
    "            P_tot = np.eye(n)\n",
    "        pivot_row_index = np.argmax(U[i:(n-1) ,i])\n",
    "        P = np.eye(n)\n",
    "        P[i,i] = 0;\n",
    "        P[pivot_row_index+i,pivot_row_index+i] = 0\n",
    "        P[pivot_row_index+i,i] = 1\n",
    "        P[i,pivot_row_index+i] = 1\n",
    "        \n",
    "\n",
    "        U = np.dot(P,U)\n",
    "        P_tot = np.dot(P,P_tot)\n",
    "\n",
    "        M = np.eye(n)\n",
    "        M[(i+1):n,i] = -U[(i+1):n,i]/U[i,i]\n",
    "        M_tot = M.dot(P).dot(M_tot)\n",
    "        U = M.dot(U)\n",
    "        \n",
    "        if i == (n-2):\n",
    "            L = P_tot.dot(np.linalg.inv(M_tot))\n",
    "        \n",
    "    return np.abs(np.max(U)/np.max(m))\n",
    "    \n"
   ]
  },
  {
   "cell_type": "code",
   "execution_count": 3,
   "metadata": {},
   "outputs": [],
   "source": [
    "# generate a random matrix of n x n dimensions\n",
    "\n",
    "import numpy as np\n",
    "\n",
    "\n",
    "# Let n be the dimension of our square matrix m\n",
    "n = 5\n",
    "\n",
    "# Parameters of normal distribution\n",
    "mu = 0; sigma = 1\n",
    "\n",
    "\n",
    "# Simulate for the n= 10, 15, 20, 25 ,..., 400, \n",
    "# we run 200 simulations for each n\n",
    "\n",
    "b =[]\n",
    "for n in range(2,100,5):\n",
    "    a = []\n",
    "    for i in range(0,500):\n",
    "        a.append(GEM(n,mu,sigma))\n",
    "    b.append(np.median(a))\n"
   ]
  },
  {
   "cell_type": "code",
   "execution_count": 4,
   "metadata": {},
   "outputs": [
    {
     "data": {
      "text/plain": [
       "Text(0, 0.5, 'Growth Factor, g')"
      ]
     },
     "execution_count": 4,
     "metadata": {},
     "output_type": "execute_result"
    },
    {
     "data": {
      "image/png": "[encoded data removed]",
      "text/plain": [
       "<Figure size 432x288 with 1 Axes>"
      ]
     },
     "metadata": {
      "needs_background": "light"
     },
     "output_type": "display_data"
    }
   ],
   "source": [
    "import matplotlib.pyplot as plt\n",
    "\n",
    "t = np.arange(2, 100, 5)\n",
    "plt.plot(t,b, 'r--', t,np.power(t,2/3),'b')\n",
    "plt.xlabel('Dimension, n')\n",
    "plt.ylabel('Growth Factor, g')\n",
    "\n",
    "# Blue line the theorized growth factor n^(2/3) from  Lloyd N. Trefethen and Robert S. Schreiber\n",
    "# In red is the simulated growth factor"
   ]
  },
  {
   "cell_type": "code",
   "execution_count": 5,
   "metadata": {},
   "outputs": [],
   "source": [
    "# Simulating the growth factor, g, for n=10, 20, 50, 100\n",
    "# 5000 samples collected\n",
    "a_10 = []\n",
    "for i in range(0,5000):\n",
    "    a_10.append(GEM(10,mu,sigma))\n",
    "\n",
    "a_20 = []\n",
    "for i in range(0,5000):\n",
    "    a_20.append(GEM(20,mu,sigma))\n",
    "\n",
    "a_50 = []\n",
    "for i in range(0,5000):\n",
    "    a_50.append(GEM(50,mu,sigma))\n",
    "\n",
    "    \n",
    "a_100 = []\n",
    "for i in range(0,5000):\n",
    "    a_100.append(GEM(100,mu,sigma))\n",
    "    \n"
   ]
  },
  {
   "cell_type": "code",
   "execution_count": 6,
   "metadata": {},
   "outputs": [],
   "source": [
    "# Removing Outliers\n",
    "myRange = [0, 500]\n",
    "myArrFiltered_10 = [x for x in a_10 if myRange[0] <= x <= myRange[1]]\n",
    "myArrFiltered_20 = [x for x in a_20 if myRange[0] <= x <= myRange[1]]\n",
    "myArrFiltered_50 = [x for x in a_50 if myRange[0] <= x <= myRange[1]]\n",
    "myArrFiltered_100 = [x for x in a_100 if myRange[0] <= x <= myRange[1]]\n"
   ]
  },
  {
   "cell_type": "code",
   "execution_count": 7,
   "metadata": {},
   "outputs": [
    {
     "data": {
      "text/plain": [
       "(array([1.268e+03, 1.252e+03, 5.410e+02, 3.540e+02, 2.710e+02, 1.770e+02,\n",
       "        1.360e+02, 1.140e+02, 9.800e+01, 6.500e+01, 6.000e+01, 4.700e+01,\n",
       "        3.800e+01, 3.200e+01, 3.900e+01, 2.800e+01, 1.700e+01, 2.500e+01,\n",
       "        1.700e+01, 2.400e+01, 1.500e+01, 7.000e+00, 1.100e+01, 1.400e+01,\n",
       "        2.100e+01, 1.400e+01, 1.200e+01, 1.500e+01, 1.000e+01, 1.100e+01,\n",
       "        5.000e+00, 7.000e+00, 9.000e+00, 1.000e+01, 8.000e+00, 7.000e+00,\n",
       "        6.000e+00, 4.000e+00, 4.000e+00, 6.000e+00, 4.000e+00, 3.000e+00,\n",
       "        5.000e+00, 6.000e+00, 3.000e+00, 3.000e+00, 5.000e+00, 4.000e+00,\n",
       "        1.000e+00, 2.000e+00, 3.000e+00, 1.000e+00, 5.000e+00, 2.000e+00,\n",
       "        3.000e+00, 2.000e+00, 0.000e+00, 5.000e+00, 4.000e+00, 2.000e+00,\n",
       "        1.000e+00, 3.000e+00, 4.000e+00, 2.000e+00, 3.000e+00, 2.000e+00,\n",
       "        2.000e+00, 1.000e+00, 1.000e+00, 1.000e+00, 2.000e+00, 2.000e+00,\n",
       "        2.000e+00, 2.000e+00, 2.000e+00, 0.000e+00, 2.000e+00, 1.000e+00,\n",
       "        1.000e+00, 3.000e+00, 2.000e+00, 1.000e+00, 1.000e+00, 0.000e+00,\n",
       "        1.000e+00, 1.000e+00, 1.000e+00, 0.000e+00, 2.000e+00, 1.000e+00,\n",
       "        0.000e+00, 0.000e+00, 4.000e+00, 3.000e+00, 2.000e+00, 0.000e+00,\n",
       "        4.000e+00, 1.000e+00, 0.000e+00, 2.000e+00]),\n",
       " array([  3.26037306,   8.20581516,  13.15125726,  18.09669936,\n",
       "         23.04214146,  27.98758356,  32.93302566,  37.87846776,\n",
       "         42.82390986,  47.76935196,  52.71479406,  57.66023616,\n",
       "         62.60567826,  67.55112036,  72.49656246,  77.44200456,\n",
       "         82.38744666,  87.33288876,  92.27833086,  97.22377296,\n",
       "        102.16921506, 107.11465716, 112.06009926, 117.00554136,\n",
       "        121.95098346, 126.89642556, 131.84186766, 136.78730976,\n",
       "        141.73275186, 146.67819396, 151.62363606, 156.56907816,\n",
       "        161.51452026, 166.45996236, 171.40540446, 176.35084656,\n",
       "        181.29628866, 186.24173076, 191.18717286, 196.13261496,\n",
       "        201.07805706, 206.02349916, 210.96894126, 215.91438336,\n",
       "        220.85982546, 225.80526756, 230.75070966, 235.69615176,\n",
       "        240.64159386, 245.58703596, 250.53247806, 255.47792016,\n",
       "        260.42336226, 265.36880436, 270.31424646, 275.25968856,\n",
       "        280.20513066, 285.15057276, 290.09601486, 295.04145696,\n",
       "        299.98689906, 304.93234116, 309.87778326, 314.82322536,\n",
       "        319.76866746, 324.71410956, 329.65955166, 334.60499376,\n",
       "        339.55043586, 344.49587796, 349.44132006, 354.38676216,\n",
       "        359.33220426, 364.27764636, 369.22308846, 374.16853056,\n",
       "        379.11397266, 384.05941476, 389.00485686, 393.95029896,\n",
       "        398.89574106, 403.84118316, 408.78662526, 413.73206736,\n",
       "        418.67750946, 423.62295156, 428.56839366, 433.51383576,\n",
       "        438.45927786, 443.40471996, 448.35016206, 453.29560416,\n",
       "        458.24104626, 463.18648836, 468.13193046, 473.07737256,\n",
       "        478.02281466, 482.96825676, 487.91369886, 492.85914096,\n",
       "        497.80458306]),\n",
       " <a list of 100 Patch objects>)"
      ]
     },
     "execution_count": 7,
     "metadata": {},
     "output_type": "execute_result"
    },
    {
     "data": {
      "image/png": "[encoded data removed]",
      "text/plain": [
       "<Figure size 432x288 with 4 Axes>"
      ]
     },
     "metadata": {
      "needs_background": "light"
     },
     "output_type": "display_data"
    }
   ],
   "source": [
    "# Histograms for n = 10, 20, 50, 100 respectively\n",
    "\n",
    "fig, axs = plt.subplots(1, 4, sharey=True, tight_layout=True)\n",
    "axs[0].hist(myArrFiltered_10, bins=100)\n",
    "axs[1].hist(myArrFiltered_20, bins=100)\n",
    "axs[2].hist(myArrFiltered_50, bins=100)\n",
    "axs[3].hist(myArrFiltered_100, bins=100)\n",
    "\n",
    "\n"
   ]
  },
  {
   "cell_type": "code",
   "execution_count": 8,
   "metadata": {},
   "outputs": [],
   "source": [
    "#######################################\n",
    "#######################################"
   ]
  },
  {
   "cell_type": "code",
   "execution_count": 9,
   "metadata": {},
   "outputs": [],
   "source": [
    "#######################################\n",
    "#######################################"
   ]
  },
  {
   "cell_type": "code",
   "execution_count": 10,
   "metadata": {},
   "outputs": [],
   "source": [
    "#######################################\n",
    "#######################################"
   ]
  },
  {
   "cell_type": "code",
   "execution_count": 11,
   "metadata": {},
   "outputs": [],
   "source": [
    "# Part 2\n",
    "# In this part we assess the speed of convergence of different iterative linear solvers"
   ]
  },
  {
   "cell_type": "code",
   "execution_count": 12,
   "metadata": {},
   "outputs": [],
   "source": [
    "n = 1000\n",
    "m = np.diag(np.arange(1,n+1,1))\n",
    "sup_diag = np.arange(0,n-1,1)\n",
    "sub_diag = np.arange(0,n-1,1)\n"
   ]
  },
  {
   "cell_type": "code",
   "execution_count": 13,
   "metadata": {},
   "outputs": [],
   "source": [
    "m[sup_diag,sup_diag+1]=1\n",
    "m[sub_diag+1,sub_diag]=1\n",
    "\n",
    "b = np.ones(n)\n"
   ]
  },
  {
   "cell_type": "code",
   "execution_count": 14,
   "metadata": {},
   "outputs": [],
   "source": [
    "# In this part we write a function that does steepest descent\n",
    "\n",
    "def steep_des(m,b, n):\n",
    "    x = np.zeros(b.size)\n",
    "    r = b\n",
    "    r_norm_steep = []\n",
    "    for i in range(0,n):\n",
    "        a = r.dot(r)/(r.dot(m).dot(r))\n",
    "        x = x+a*r\n",
    "        r = r-a*m.dot(r)\n",
    "        r_norm_steep.append(r.dot(r))\n",
    "        if r.dot(r) < 10e-20:\n",
    "            break\n",
    "    return x, r_norm_steep, i+1\n"
   ]
  },
  {
   "cell_type": "code",
   "execution_count": 15,
   "metadata": {},
   "outputs": [
    {
     "data": {
      "text/plain": [
       "1000"
      ]
     },
     "execution_count": 15,
     "metadata": {},
     "output_type": "execute_result"
    }
   ],
   "source": [
    "# Caclculating steepest descent for 100 iterations\n",
    "x, norm_steep, end_steep = steep_des(m, b, 1000)\n",
    "end_steep"
   ]
  },
  {
   "cell_type": "code",
   "execution_count": 18,
   "metadata": {},
   "outputs": [],
   "source": [
    "# In this part we write a function that does Conjugate gradient descent\n",
    "\n",
    "def conj_des(m,b,n):\n",
    "    x = np.zeros(b.size)\n",
    "    r = p = b\n",
    "    r_norm_conj = []\n",
    "    actual_res = []\n",
    "    for i in range(0,n):\n",
    "        a = r.dot(r)/(p.dot(m).dot(p))\n",
    "        x = x+a*p\n",
    "        denom = r.dot(r)\n",
    "        r = r-a*m.dot(p)\n",
    "        numer = r.dot(r)\n",
    "        beta = numer/denom\n",
    "        p = r+beta*p\n",
    "        r_norm_conj.append(r.dot(r))\n",
    "        if numer < 10e-20:\n",
    "            break\n",
    "        actual_res.append((b-m.dot(x)).dot(b-m.dot(x)) )\n",
    "    return x, r_norm_conj, actual_res, i+1\n",
    "\n"
   ]
  },
  {
   "cell_type": "code",
   "execution_count": 19,
   "metadata": {},
   "outputs": [
    {
     "data": {
      "text/plain": [
       "217"
      ]
     },
     "execution_count": 19,
     "metadata": {},
     "output_type": "execute_result"
    }
   ],
   "source": [
    "# Caclculating conjugate descent for 100 iterations\n",
    "x, norm_conj, norm_actual, end_conj = conj_des(m, b, 1000)\n",
    "end_conj"
   ]
  },
  {
   "cell_type": "code",
   "execution_count": 20,
   "metadata": {},
   "outputs": [],
   "source": [
    "# In this case ||m|| = ||m.inv||\n",
    "i = np.arange(1,201,1)\n",
    "K = 2*( ((np.linalg.cond(m)-1)/(np.linalg.cond(m)+1))**i)\n",
    "\n"
   ]
  },
  {
   "cell_type": "code",
   "execution_count": 24,
   "metadata": {},
   "outputs": [
    {
     "data": {
      "text/plain": [
       "[<matplotlib.lines.Line2D at 0x7fcbe355de50>,\n",
       " <matplotlib.lines.Line2D at 0x7fcbe355de80>,\n",
       " <matplotlib.lines.Line2D at 0x7fcbe355df70>,\n",
       " <matplotlib.lines.Line2D at 0x7fcbe356a070>]"
      ]
     },
     "execution_count": 24,
     "metadata": {},
     "output_type": "execute_result"
    },
    {
     "data": {
      "image/png": "[encoded data removed]",
      "text/plain": [
       "<Figure size 432x288 with 1 Axes>"
      ]
     },
     "metadata": {
      "needs_background": "light"
     },
     "output_type": "display_data"
    }
   ],
   "source": [
    "j = 150\n",
    "plt.plot(np.arange(1,j+1,1),np.log(norm_steep[0:j]),'r',np.log(norm_conj[0:j]),'b', np.log(norm_actual[0:j]), 'g', np.log(K[0:j]), 'orange')\n",
    "\n",
    "\n",
    "\n",
    "# RED curve gives steepest descent\n",
    "# BLUE curve gives conjugate descent\n",
    "# GREEN curve gives actual error\n",
    "# ORANGE curve gives Kappa condition\n"
   ]
  },
  {
   "cell_type": "code",
   "execution_count": null,
   "metadata": {},
   "outputs": [],
   "source": [
    "# Comments\n",
    "\n",
    "# We can see that the using the Conjugate gradient is by fast converging the fastest\n",
    "# in terms of minimizing the norm of the residual vector r.\n",
    "#\n",
    "# In fact, I have programmed both Conjugate and Steepest descent to terminate when the\n",
    "# norm of r is less than 10e-20. This information can be foung from the variables\n",
    "# end_steep and end_conj.\n",
    "#\n",
    "# We can see that while steepest descent carries out the whole 1000 iterations, i.e.\n",
    "# the norm never hits the lower bound of 10e-20, for conjugate descent the algorithm\n",
    "# breaks after about 200 iterations. Showing a much rapid convergenvence"
   ]
  },
  {
   "cell_type": "code",
   "execution_count": null,
   "metadata": {},
   "outputs": [],
   "source": []
  },
  {
   "cell_type": "code",
   "execution_count": null,
   "metadata": {},
   "outputs": [],
   "source": []
  },
  {
   "cell_type": "code",
   "execution_count": null,
   "metadata": {},
   "outputs": [],
   "source": []
  },
  {
   "cell_type": "code",
   "execution_count": null,
   "metadata": {},
   "outputs": [],
   "source": []
  },
  {
   "cell_type": "code",
   "execution_count": null,
   "metadata": {},
   "outputs": [],
   "source": []
  }
 ],
 "metadata": {
  "kernelspec": {
   "display_name": "Python 3",
   "language": "python",
   "name": "python3"
  },
  "language_info": {
   "codemirror_mode": {
    "name": "ipython",
    "version": 3
   },
   "file_extension": ".py",
   "mimetype": "text/x-python",
   "name": "python",
   "nbconvert_exporter": "python",
   "pygments_lexer": "ipython3",
   "version": "3.8.3"
  }
 },
 "nbformat": 4,
 "nbformat_minor": 4
}
