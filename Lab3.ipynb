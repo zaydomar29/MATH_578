{
 "cells": [
  {
   "cell_type": "code",
   "execution_count": 330,
   "metadata": {},
   "outputs": [],
   "source": [
    "#*#*#*#*#*#*#*#*#*#*#*#*\n",
    "#*          Q1        *#\n",
    "#*#*#*#*#*#*#*#*#*#*#*#*\n",
    "\n",
    "\n",
    "# Cauchy Problem\n",
    "# y'(x) = lambda y(x)\n",
    "# y(0) = y0\n",
    "\n",
    "\n",
    "def forward_euler(h,y0,lamb):\n",
    "    y0 = y0 + h*np.dot(lamb, y0)\n",
    "    return y0\n",
    "\n",
    "def backward_euler(h, y0, lamb):\n",
    "    # Implement Newton's Iteration\n",
    "    y1 = forward_euler(h, y0, lamb)    # Initial value for Newton Iteration\n",
    "    g = y1-y0-h*lamb*y1\n",
    "    g_prime = 1-h*lamb**2*y1\n",
    "    for i in range(0,1000):\n",
    "        y0 = y1\n",
    "        y1 = y0 - g/g_prime\n",
    "        g = y1-y0-h*lamb*y1\n",
    "        g_prime = 1-h*lamb**2*y1\n",
    "    \n",
    "    \n",
    "    return y1\n",
    "\n",
    "\n"
   ]
  },
  {
   "cell_type": "code",
   "execution_count": 331,
   "metadata": {},
   "outputs": [
    {
     "data": {
      "text/plain": [
       "Text(0.5, 1.0, 'Error at t=2')"
      ]
     },
     "execution_count": 331,
     "metadata": {},
     "output_type": "execute_result"
    },
    {
     "data": {
      "image/png": "[encoded data removed]",
      "text/plain": [
       "<Figure size 432x288 with 1 Axes>"
      ]
     },
     "metadata": {
      "needs_background": "light"
     },
     "output_type": "display_data"
    }
   ],
   "source": [
    "#*#*#*#*#*#*#*#*#*#*#*#*\n",
    "#*        Q2          *#\n",
    "#*#*#*#*#*#*#*#*#*#*#*#*\n",
    "\n",
    "import numpy as np\n",
    "import matplotlib.pyplot as plt\n",
    "\n",
    "\n",
    "# 2a) lamb = -23; h = 0.1\n",
    "lamb = -23\n",
    "h = 0.1\n",
    "x = np.arange(0,2,h)+h\n",
    "y = np.ones(x.shape[0]+1)\n",
    "\n",
    "\n",
    "for i in range(0,x.shape[0]):\n",
    "    y[i+1] = forward_euler(h, y[i], lamb)\n",
    "\n",
    "err = np.log(np.abs(y[0:x.shape[0]]-np.exp(lamb*x)))\n",
    "e1 = err[x.shape[0]-1]\n",
    "\n",
    "\n",
    "# 2a) h = 0.05\n",
    "h = 0.05\n",
    "x = np.arange(0,2,h)+h\n",
    "y = np.ones(x.shape[0]+1)\n",
    "\n",
    "\n",
    "for i in range(0,x.shape[0]):\n",
    "    y[i+1] = forward_euler(h, y[i], lamb)\n",
    "\n",
    "err = np.log(np.abs(y[0:x.shape[0]]-np.exp(lamb*x)))\n",
    "e2 = err[x.shape[0]-1]\n",
    "\n",
    "\n",
    "# 2a) h = 0.02\n",
    "h = 0.02\n",
    "x = np.arange(0,2,h)+h\n",
    "y = np.ones(x.shape[0]+1)\n",
    "\n",
    "\n",
    "for i in range(1,x.shape[0]):\n",
    "    y[i+1] = forward_euler(h, y[i], lamb)\n",
    "\n",
    "err = np.log(np.abs(y[0:x.shape[0]]-np.exp(lamb*x)))\n",
    "e3 = err[x.shape[0]-1]\n",
    "\n",
    "# 2a) h = 0.01\n",
    "h = 0.01\n",
    "x = np.arange(0,2,h)+h\n",
    "y = np.ones(x.shape[0]+1)\n",
    "\n",
    "\n",
    "for i in range(0,x.shape[0]):\n",
    "    y[i+1] = y[i] + h*lamb*y[i]\n",
    "\n",
    "err = np.log(np.abs(y[0:x.shape[0]]-np.exp(lamb*x)))\n",
    "e4 = err[x.shape[0]-1]\n",
    "\n",
    "# 2a) h = 0.005\n",
    "h = 0.005\n",
    "x = np.arange(0,2,h)+h\n",
    "y = np.ones(x.shape[0]+1)\n",
    "\n",
    "\n",
    "for i in range(0,x.shape[0]):\n",
    "    y[i+1] = forward_euler(h, y[i], lamb)\n",
    "\n",
    "err = np.log(np.abs(y[0:x.shape[0]]-np.exp(lamb*x)))\n",
    "e5 = err[x.shape[0]-1]\n",
    "\n",
    "\n",
    "\n",
    "plt.plot(np.log([0.1,0.05,0.02,0.01,0.005]),[e1,e2,e3,e4,e5],'rx')\n",
    "plt.xlabel(\"log h\")\n",
    "plt.ylabel(\"log err\")\n",
    "plt.title('Lambda = -23')\n",
    "plt.title(\"Error at t=2\")\n",
    "\n",
    "## We can see that the approximations errors are getting small as \n",
    "## stepsize h becomes small."
   ]
  },
  {
   "cell_type": "code",
   "execution_count": null,
   "metadata": {},
   "outputs": [],
   "source": []
  },
  {
   "cell_type": "code",
   "execution_count": null,
   "metadata": {},
   "outputs": [],
   "source": []
  },
  {
   "cell_type": "code",
   "execution_count": null,
   "metadata": {},
   "outputs": [],
   "source": []
  },
  {
   "cell_type": "code",
   "execution_count": null,
   "metadata": {},
   "outputs": [],
   "source": []
  },
  {
   "cell_type": "code",
   "execution_count": 332,
   "metadata": {},
   "outputs": [
    {
     "data": {
      "text/plain": [
       "Text(0.5, 1.0, 'Error at t=2')"
      ]
     },
     "execution_count": 332,
     "metadata": {},
     "output_type": "execute_result"
    },
    {
     "data": {
      "image/png": "[encoded data removed]",
      "text/plain": [
       "<Figure size 432x288 with 1 Axes>"
      ]
     },
     "metadata": {
      "needs_background": "light"
     },
     "output_type": "display_data"
    }
   ],
   "source": [
    "# 2a) lamb = 1; h = 0.1\n",
    "lamb = 1\n",
    "h = 0.1\n",
    "x = np.arange(0,2,h)+h\n",
    "y = np.ones(x.shape[0]+1)\n",
    "\n",
    "\n",
    "for i in range(0,x.shape[0]):\n",
    "    y[i+1] = forward_euler(h, y[i], lamb)\n",
    "\n",
    "err = np.log(np.abs(y[0:x.shape[0]]-np.exp(lamb*x)))\n",
    "e1 = err[x.shape[0]-1]\n",
    "\n",
    "\n",
    "# 2a) lamb = 1; h = 0.05\n",
    "h = 0.05\n",
    "x = np.arange(0,2,h)+h\n",
    "y = np.ones(x.shape[0]+1)\n",
    "\n",
    "\n",
    "for i in range(0,x.shape[0]):\n",
    "    y[i+1] = forward_euler(h, y[i], lamb)\n",
    "\n",
    "err = np.log(np.abs(y[0:x.shape[0]]-np.exp(lamb*x)))\n",
    "e2 = err[x.shape[0]-1]\n",
    "\n",
    "\n",
    "# 2a) lamb = 1; h = 0.02\n",
    "h = 0.02\n",
    "x = np.arange(0,2,h)+h\n",
    "y = np.ones(x.shape[0]+1)\n",
    "\n",
    "\n",
    "for i in range(1,x.shape[0]):\n",
    "    y[i+1] = forward_euler(h, y[i], lamb)\n",
    "\n",
    "err = np.log(np.abs(y[0:x.shape[0]]-np.exp(lamb*x)))\n",
    "e3 = err[x.shape[0]-1]\n",
    "\n",
    "# 2a) lamb = 1; h = 0.01\n",
    "h = 0.01\n",
    "x = np.arange(0,2,h)+h\n",
    "y = np.ones(x.shape[0]+1)\n",
    "\n",
    "\n",
    "for i in range(0,x.shape[0]):\n",
    "    y[i+1] = y[i] + h*lamb*y[i]\n",
    "\n",
    "err = np.log(np.abs(y[0:x.shape[0]]-np.exp(lamb*x)))\n",
    "e4 = err[x.shape[0]-1]\n",
    "\n",
    "# 2a) lamb = 1; h = 0.005\n",
    "h = 0.005\n",
    "x = np.arange(0,2,h)+h\n",
    "y = np.ones(x.shape[0]+1)\n",
    "\n",
    "\n",
    "for i in range(0,x.shape[0]):\n",
    "    y[i+1] = forward_euler(h, y[i], lamb)\n",
    "\n",
    "err = np.log(np.abs(y[0:x.shape[0]]-np.exp(lamb*x)))\n",
    "e5 = err[x.shape[0]-1]\n",
    "\n",
    "\n",
    "plt.plot(np.log([0.1,0.05,0.02,0.01,0.005]),[e1,e2,e3,e4,e5],'rx')\n",
    "plt.xlabel(\"log h\")\n",
    "plt.ylabel(\"log err\")\n",
    "plt.title('Lambda = 1')\n",
    "plt.title(\"Error at t=2\")\n",
    "\n",
    "\n",
    "## We can see that the approximations errors are getting small as \n",
    "## stepsize h becomes small."
   ]
  },
  {
   "cell_type": "code",
   "execution_count": null,
   "metadata": {},
   "outputs": [],
   "source": [
    "\n",
    "\n"
   ]
  },
  {
   "cell_type": "code",
   "execution_count": null,
   "metadata": {},
   "outputs": [],
   "source": []
  },
  {
   "cell_type": "code",
   "execution_count": null,
   "metadata": {},
   "outputs": [],
   "source": []
  },
  {
   "cell_type": "code",
   "execution_count": null,
   "metadata": {},
   "outputs": [],
   "source": []
  },
  {
   "cell_type": "code",
   "execution_count": 333,
   "metadata": {},
   "outputs": [
    {
     "data": {
      "text/plain": [
       "Text(0.5, 1.0, 'Error at t=2')"
      ]
     },
     "execution_count": 333,
     "metadata": {},
     "output_type": "execute_result"
    },
    {
     "data": {
      "image/png": "[encoded data removed]",
      "text/plain": [
       "<Figure size 432x288 with 1 Axes>"
      ]
     },
     "metadata": {
      "needs_background": "light"
     },
     "output_type": "display_data"
    }
   ],
   "source": [
    "# 2a) lamb = diag(-1,-100); h = 0.1\n",
    "lamb = np.diag([+1,-100])\n",
    "h = 0.1\n",
    "x = np.arange(0,2,h)+h\n",
    "y = np.ones([x.shape[0]+1,2])\n",
    "\n",
    "\n",
    "for i in range(0,x.shape[0]):\n",
    "    y[i+1,:] = forward_euler(h, y[i,:], lamb)\n",
    "\n",
    "\n",
    "err = np.log(np.abs(np.sum(y[0:x.shape[0],:]**2,axis=1)-(np.exp(-2*x)+np.exp(-200*x))))\n",
    "e1 = err[x.shape[0]-1]\n",
    "\n",
    "# 2a) lamb = diag(-1,-100); h = 0.05\n",
    "lamb = np.diag([-1,-100])\n",
    "h = 0.05\n",
    "x = np.arange(0,2,h)+h\n",
    "y = np.ones([x.shape[0]+1,2])\n",
    "\n",
    "\n",
    "for i in range(0,x.shape[0]):\n",
    "    y[i+1,:] = forward_euler(h, y[i,:], lamb)\n",
    "\n",
    "\n",
    "err = np.log(np.abs(np.sum(y[0:x.shape[0],:]**2,axis=1)-(np.exp(-2*x)+np.exp(-200*x))))\n",
    "e2 = err[x.shape[0]-1]\n",
    "\n",
    "\n",
    "# 2a) lamb = diag(-1,-100); h = 0.02\n",
    "lamb = np.diag([-1,-100])\n",
    "h = 0.02\n",
    "x = np.arange(0,2,h)+h\n",
    "y = np.ones([x.shape[0]+1,2])\n",
    "\n",
    "\n",
    "for i in range(0,x.shape[0]):\n",
    "    y[i+1,:] = forward_euler(h, y[i,:], lamb)\n",
    "\n",
    "\n",
    "err = np.log(np.abs(np.sum(y[0:x.shape[0],:]**2,axis=1)-(np.exp(-2*x)+np.exp(-200*x))))\n",
    "e3 = err[x.shape[0]-1]\n",
    "\n",
    "\n",
    "# 2a) lamb = diag(-1,-100); h = 0.01\n",
    "lamb = np.diag([-1,-100])\n",
    "h = 0.01\n",
    "x = np.arange(0,2,h)+h\n",
    "y = np.ones([x.shape[0]+1,2])\n",
    "\n",
    "\n",
    "for i in range(0,x.shape[0]):\n",
    "    y[i+1,:] = forward_euler(h, y[i,:], lamb)\n",
    "\n",
    "\n",
    "err = np.log(np.abs(np.sum(y[0:x.shape[0],:]**2,axis=1)-(np.exp(-2*x)+np.exp(-200*x))))\n",
    "e4 = err[x.shape[0]-1]\n",
    "\n",
    "\n",
    "# 2a) lamb = diag(-1,-100); h = 0.005\n",
    "lamb = np.diag([-1,-100])\n",
    "h = 0.005\n",
    "x = np.arange(0,2,h)+h\n",
    "y = np.ones([x.shape[0]+1,2])\n",
    "\n",
    "\n",
    "for i in range(0,x.shape[0]):\n",
    "    y[i+1,:] = forward_euler(h, y[i,:], lamb)\n",
    "\n",
    "\n",
    "err = np.log(np.abs(np.sum(y[0:x.shape[0],:]**2,axis=1)-(np.exp(-2*x)+np.exp(-200*x))))\n",
    "e5 = err[x.shape[0]-1]\n",
    "\n",
    "\n",
    "plt.plot(np.log([0.1,0.05,0.02,0.01,0.005]),[e1,e2,e3,e4,e5],'rx')\n",
    "plt.xlabel(\"log h\")\n",
    "plt.ylabel(\"log err\")\n",
    "plt.title(\"Error at t=2\")\n",
    "\n",
    "\n",
    "## We can see that the approximations errors are getting small as \n",
    "## stepsize h becomes small.\n"
   ]
  },
  {
   "cell_type": "code",
   "execution_count": 334,
   "metadata": {},
   "outputs": [
    {
     "data": {
      "text/plain": [
       "Text(0.5, 1.0, 'Blue = y; Red = Estimate; lambda = -23; h = 0.005')"
      ]
     },
     "execution_count": 334,
     "metadata": {},
     "output_type": "execute_result"
    },
    {
     "data": {
      "image/png": "[encoded data removed]",
      "text/plain": [
       "<Figure size 432x288 with 1 Axes>"
      ]
     },
     "metadata": {
      "needs_background": "light"
     },
     "output_type": "display_data"
    }
   ],
   "source": [
    "#*#*#*#*#*#*#*#*#*#*#*#*\n",
    "#*          Q2c        *#\n",
    "#*#*#*#*#*#*#*#*#*#*#*#*\n",
    "\n",
    "# Let h = 0.05, lambda = -23\n",
    "lamb = -23\n",
    "h = 0.005\n",
    "x = np.arange(0,2,h)+h\n",
    "y = np.ones(x.shape[0]+1)\n",
    "\n",
    "\n",
    "for i in range(0,x.shape[0]):\n",
    "    y[i+1] = forward_euler(h, y[i], lamb)\n",
    "\n",
    "# err = np.log(np.abs(y[0:x.shape[0]]-np.exp(lamb*x)))\n",
    "\n",
    "\n",
    "\n",
    "plt.plot(x, y[:x.shape[0]],'r-',x,np.exp(lamb*x),'b-')\n",
    "plt.xlabel(\"x\")\n",
    "plt.ylabel(\"y\")\n",
    "plt.title(\"Blue = y; Red = Estimate; lambda = -23; h = 0.005\")\n",
    "\n",
    "\n",
    "## We can see that the approximations are getting very close to the exact values as \n",
    "## stepsize h becomes small."
   ]
  },
  {
   "cell_type": "code",
   "execution_count": 335,
   "metadata": {},
   "outputs": [
    {
     "data": {
      "text/plain": [
       "Text(0.5, 1.0, 'Blue = y; Red = Estimate; lambda = 1; h = 0.005')"
      ]
     },
     "execution_count": 335,
     "metadata": {},
     "output_type": "execute_result"
    },
    {
     "data": {
      "image/png": "[encoded data removed]",
      "text/plain": [
       "<Figure size 432x288 with 1 Axes>"
      ]
     },
     "metadata": {
      "needs_background": "light"
     },
     "output_type": "display_data"
    }
   ],
   "source": [
    "#*#*#*#*#*#*#*#*#*#*#*#*\n",
    "#*         Q2c        *#\n",
    "#*#*#*#*#*#*#*#*#*#*#*#*\n",
    "\n",
    "# Let h = 0.05, lambda = 1\n",
    "lamb = 1\n",
    "h = 0.005\n",
    "x = np.arange(0,2,h)+h\n",
    "y = np.ones(x.shape[0]+1)\n",
    "\n",
    "\n",
    "for i in range(0,x.shape[0]):\n",
    "    y[i+1] = forward_euler(h, y[i], lamb)\n",
    "\n",
    "# err = np.log(np.abs(y[0:x.shape[0]]-np.exp(lamb*x)))\n",
    "\n",
    "\n",
    "\n",
    "plt.plot(x, y[:x.shape[0]],'r-',x,np.exp(lamb*x),'b-')\n",
    "plt.xlabel(\"x\")\n",
    "plt.ylabel(\"y\")\n",
    "plt.title(\"Blue = y; Red = Estimate; lambda = 1; h = 0.005\")\n",
    "\n",
    "\n",
    "## We can see that the approximations are getting very close to the exact values as \n",
    "## stepsize h becomes small."
   ]
  },
  {
   "cell_type": "code",
   "execution_count": 336,
   "metadata": {},
   "outputs": [
    {
     "data": {
      "text/plain": [
       "Text(0.5, 1.0, 'Blue = y1; Red = Estimate of y1; Green = y2; Yellow = Estimate of y2; h = 0.005')"
      ]
     },
     "execution_count": 336,
     "metadata": {},
     "output_type": "execute_result"
    },
    {
     "data": {
      "image/png": "[encoded data removed]",
      "text/plain": [
       "<Figure size 432x288 with 1 Axes>"
      ]
     },
     "metadata": {
      "needs_background": "light"
     },
     "output_type": "display_data"
    }
   ],
   "source": [
    "# 2c) lamb = diag(-1,-100); h = 0.005\n",
    "lamb = np.diag([-1,-100])\n",
    "h = 0.005\n",
    "x = np.arange(0,2,h)+h\n",
    "y = np.ones([x.shape[0]+1,2])\n",
    "\n",
    "\n",
    "for i in range(0,x.shape[0]):\n",
    "    y[i+1,:] = forward_euler(h, y[i,:], lamb)\n",
    "\n",
    "    \n",
    "plt.plot(x, y[:x.shape[0],0],'r-',x,np.exp(lamb[0,0]*x),'b-')\n",
    "plt.xlabel(\"x\")\n",
    "plt.ylabel(\"y1\")\n",
    "\n",
    "plt.plot(x, y[:x.shape[0],1],'g-',x,np.exp(lamb[1,1]*x),'y-')\n",
    "plt.xlabel(\"x\")\n",
    "plt.ylabel(\"y2\")\n",
    "plt.title(\"Blue = y1; Red = Estimate of y1; Green = y2; Yellow = Estimate of y2; h = 0.005\")\n",
    "\n",
    "\n",
    "## We can see that the approximations errors are getting small as \n",
    "## stepsize h becomes small."
   ]
  },
  {
   "cell_type": "code",
   "execution_count": 337,
   "metadata": {},
   "outputs": [],
   "source": [
    "#*#*#*#*#*#*#*#*#*#*#*#*\n",
    "#*         Q3         *#\n",
    "#*#*#*#*#*#*#*#*#*#*#*#*\n",
    "\n",
    "\n",
    "# Runge-Kutta\n",
    "\n",
    "\n",
    "\n",
    "def RK(h,y0,lamb):\n",
    "    b1 = 0\n",
    "    c2 = 0.5\n",
    "    b2 = 1\n",
    "    K1 = np.dot(lamb,y0)\n",
    "    K2 = np.dot(lamb,(y0+h*c2*K1))\n",
    "    y1 = y0+h*(b1*K1+b2*K2)\n",
    "    return y1\n",
    "\n",
    "\n",
    "\n",
    "def RK4(h,y0,lamb):\n",
    "    c1 = 0\n",
    "    c2 = 0.5\n",
    "    c3 = 0.5\n",
    "    c4 = 1\n",
    "    b1 = 1/6\n",
    "    b2 = 1/3\n",
    "    b3 = 1/3\n",
    "    b4 = 1/6\n",
    "    \n",
    "\n",
    "    K1 = np.dot(lamb,y0)\n",
    "    K2 = np.dot(lamb,(y0+h*c2*K1))\n",
    "    K3 = np.dot(lamb,(y0+h*c3*K2))\n",
    "    K4 = np.dot(lamb,(y0+h*c4*K3))\n",
    "    y1 = y0+h*(b1*K1+b2*K2+b3*K3+b4*K4)\n",
    "    return y1\n",
    "\n",
    "\n",
    "\n"
   ]
  },
  {
   "cell_type": "code",
   "execution_count": 338,
   "metadata": {},
   "outputs": [
    {
     "data": {
      "text/plain": [
       "Text(0.5, 1.0, 'Error at t=2, lambda = -23')"
      ]
     },
     "execution_count": 338,
     "metadata": {},
     "output_type": "execute_result"
    },
    {
     "data": {
      "image/png": "[encoded data removed]",
      "text/plain": [
       "<Figure size 432x288 with 1 Axes>"
      ]
     },
     "metadata": {
      "needs_background": "light"
     },
     "output_type": "display_data"
    }
   ],
   "source": [
    "# 2-Stage Runge Kutta for Lambda = -23 with varying step size\n",
    "\n",
    "\n",
    "lamb = -23\n",
    "\n",
    "# 3a) h = 0.1\n",
    "h = 0.1\n",
    "x = np.arange(0,2,h)+h\n",
    "y = np.ones(x.shape[0]+1)\n",
    "\n",
    "\n",
    "for i in range(0,x.shape[0]):\n",
    "    y[i+1] = RK(h, y[i], lamb)\n",
    "\n",
    "err = np.log(np.abs(y[0:x.shape[0]]-np.exp(lamb*x)))\n",
    "e1 = err[x.shape[0]-1]\n",
    "\n",
    "# 3a) h = 0.05\n",
    "h = 0.05\n",
    "x = np.arange(0,2,h)+h\n",
    "y = np.ones(x.shape[0]+1)\n",
    "\n",
    "for i in range(0,x.shape[0]):\n",
    "    y[i+1] = RK(h, y[i], lamb)\n",
    "\n",
    "err = np.log(np.abs(y[0:x.shape[0]]-np.exp(lamb*x)))\n",
    "e1 = err[x.shape[0]-1]\n",
    "\n",
    "\n",
    "# 3a) h = 0.02\n",
    "h = 0.02\n",
    "x = np.arange(0,2,h)+h\n",
    "y = np.ones(x.shape[0]+1)\n",
    "\n",
    "\n",
    "for i in range(0,x.shape[0]):\n",
    "    y[i+1] = RK(h, y[i], lamb)\n",
    "\n",
    "err = np.log(np.abs(y[0:x.shape[0]]-np.exp(lamb*x)))\n",
    "e3 = err[x.shape[0]-1]\n",
    "\n",
    "\n",
    "# 3a) h = 0.01\n",
    "h = 0.001\n",
    "x = np.arange(0,2,h)+h\n",
    "y = np.ones(x.shape[0]+1)\n",
    "\n",
    "\n",
    "for i in range(0,x.shape[0]):\n",
    "    y[i+1] = RK(h, y[i], lamb)\n",
    "\n",
    "err = np.log(np.abs(y[0:x.shape[0]]-np.exp(lamb*x)))\n",
    "e4 = err[x.shape[0]-1]\n",
    "\n",
    "\n",
    "# 3a) h = 0.005\n",
    "h = 0.005\n",
    "x = np.arange(0,2,h)+h\n",
    "y = np.ones(x.shape[0]+1)\n",
    "\n",
    "\n",
    "for i in range(0,x.shape[0]):\n",
    "    y[i+1] = RK(h, y[i], lamb)\n",
    "\n",
    "err = np.log(np.abs(y[0:x.shape[0]]-np.exp(lamb*x)))\n",
    "e5 = err[x.shape[0]-1]\n",
    "\n",
    "\n",
    "plt.plot(np.log([0.1,0.05,0.02,0.01,0.005]),[e1,e2,e3,e4,e5],'rx')\n",
    "plt.xlabel(\"log h\")\n",
    "plt.ylabel(\"log err\")\n",
    "plt.title(\"Error at t=2, lambda = -23\")\n",
    "\n",
    "## We can see that the approximations errors are getting small as \n",
    "## stepsize h becomes small.\n"
   ]
  },
  {
   "cell_type": "code",
   "execution_count": 339,
   "metadata": {},
   "outputs": [
    {
     "data": {
      "text/plain": [
       "Text(0.5, 1.0, 'Blue = y; Red = Estimate; lambda = -23; h = 0.005')"
      ]
     },
     "execution_count": 339,
     "metadata": {},
     "output_type": "execute_result"
    },
    {
     "data": {
      "image/png": "[encoded data removed]",
      "text/plain": [
       "<Figure size 432x288 with 1 Axes>"
      ]
     },
     "metadata": {
      "needs_background": "light"
     },
     "output_type": "display_data"
    }
   ],
   "source": [
    "plt.plot(x, y[:x.shape[0]],'r-',x,np.exp(lamb*x),'b-')\n",
    "plt.xlabel(\"x\")\n",
    "plt.ylabel(\"y\")\n",
    "\n",
    "plt.title(\"Blue = y; Red = Estimate; lambda = -23; h = 0.005\")\n",
    "\n",
    "## We can see that the approximations are getting very close to the exact values as \n",
    "## stepsize h becomes small."
   ]
  },
  {
   "cell_type": "code",
   "execution_count": null,
   "metadata": {},
   "outputs": [],
   "source": []
  },
  {
   "cell_type": "code",
   "execution_count": null,
   "metadata": {},
   "outputs": [],
   "source": []
  },
  {
   "cell_type": "code",
   "execution_count": 340,
   "metadata": {},
   "outputs": [
    {
     "data": {
      "text/plain": [
       "Text(0.5, 1.0, 'Error at t=2, lambda = 1')"
      ]
     },
     "execution_count": 340,
     "metadata": {},
     "output_type": "execute_result"
    },
    {
     "data": {
      "image/png": "[encoded data removed]",
      "text/plain": [
       "<Figure size 432x288 with 1 Axes>"
      ]
     },
     "metadata": {
      "needs_background": "light"
     },
     "output_type": "display_data"
    }
   ],
   "source": [
    "# 2-Stage Runge Kutta for Lambda = 1 with varying step size\n",
    "\n",
    "\n",
    "lamb = 1\n",
    "\n",
    "# 3a) h = 0.1\n",
    "h = 0.1\n",
    "x = np.arange(0,2,h)+h\n",
    "y = np.ones(x.shape[0]+1)\n",
    "\n",
    "\n",
    "for i in range(0,x.shape[0]):\n",
    "    y[i+1] = RK(h, y[i], lamb)\n",
    "\n",
    "err = np.log(np.abs(y[0:x.shape[0]]-np.exp(lamb*x)))\n",
    "e1 = err[x.shape[0]-1]\n",
    "\n",
    "# 3a) h = 0.05\n",
    "h = 0.05\n",
    "x = np.arange(0,2,h)+h\n",
    "y = np.ones(x.shape[0]+1)\n",
    "\n",
    "for i in range(0,x.shape[0]):\n",
    "    y[i+1] = RK(h, y[i], lamb)\n",
    "\n",
    "err = np.log(np.abs(y[0:x.shape[0]]-np.exp(lamb*x)))\n",
    "e1 = err[x.shape[0]-1]\n",
    "\n",
    "\n",
    "# 3a) h = 0.02\n",
    "h = 0.02\n",
    "x = np.arange(0,2,h)+h\n",
    "y = np.ones(x.shape[0]+1)\n",
    "\n",
    "\n",
    "for i in range(0,x.shape[0]):\n",
    "    y[i+1] = RK(h, y[i], lamb)\n",
    "\n",
    "err = np.log(np.abs(y[0:x.shape[0]]-np.exp(lamb*x)))\n",
    "e3 = err[x.shape[0]-1]\n",
    "\n",
    "\n",
    "# 3a) h = 0.01\n",
    "h = 0.01\n",
    "x = np.arange(0,2,h)+h\n",
    "y = np.ones(x.shape[0]+1)\n",
    "\n",
    "\n",
    "for i in range(0,x.shape[0]):\n",
    "    y[i+1] = RK(h, y[i], lamb)\n",
    "\n",
    "err = np.log(np.abs(y[0:x.shape[0]]-np.exp(lamb*x)))\n",
    "e4 = err[x.shape[0]-1]\n",
    "\n",
    "\n",
    "# 3a) h = 0.005\n",
    "h = 0.005\n",
    "x = np.arange(0,2,h)+h\n",
    "y = np.ones(x.shape[0]+1)\n",
    "\n",
    "\n",
    "for i in range(0,x.shape[0]):\n",
    "    y[i+1] = RK(h, y[i], lamb)\n",
    "\n",
    "err = np.log(np.abs(y[0:x.shape[0]]-np.exp(lamb*x)))\n",
    "e5 = err[x.shape[0]-1]\n",
    "\n",
    "\n",
    "plt.plot(np.log([0.1,0.05,0.02,0.01,0.005]),[e1,e2,e3,e4,e5],'rx')\n",
    "plt.xlabel(\"log h\")\n",
    "plt.ylabel(\"log err\")\n",
    "plt.title(\"Error at t=2, lambda = 1\")\n",
    "\n",
    "## We can see that the approximations errors are getting small as \n",
    "## stepsize h becomes small.\n"
   ]
  },
  {
   "cell_type": "code",
   "execution_count": 341,
   "metadata": {},
   "outputs": [
    {
     "data": {
      "text/plain": [
       "Text(0.5, 1.0, 'Blue = y; Red = Estimate; lambda = 1; h = 0.005')"
      ]
     },
     "execution_count": 341,
     "metadata": {},
     "output_type": "execute_result"
    },
    {
     "data": {
      "image/png": "[encoded data removed]",
      "text/plain": [
       "<Figure size 432x288 with 1 Axes>"
      ]
     },
     "metadata": {
      "needs_background": "light"
     },
     "output_type": "display_data"
    }
   ],
   "source": [
    "plt.plot(x, y[:x.shape[0]],'r-',x,np.exp(lamb*x),'b-')\n",
    "plt.xlabel(\"x\")\n",
    "plt.ylabel(\"y\")\n",
    "\n",
    "plt.title(\"Blue = y; Red = Estimate; lambda = 1; h = 0.005\")\n",
    "\n",
    "## We can see that the approximations are getting very close to the exact values as \n",
    "## stepsize h becomes small."
   ]
  },
  {
   "cell_type": "code",
   "execution_count": null,
   "metadata": {},
   "outputs": [],
   "source": []
  },
  {
   "cell_type": "code",
   "execution_count": 342,
   "metadata": {},
   "outputs": [
    {
     "data": {
      "text/plain": [
       "Text(0.5, 1.0, 'Error at t=2')"
      ]
     },
     "execution_count": 342,
     "metadata": {},
     "output_type": "execute_result"
    },
    {
     "data": {
      "image/png": "[encoded data removed]",
      "text/plain": [
       "<Figure size 432x288 with 1 Axes>"
      ]
     },
     "metadata": {
      "needs_background": "light"
     },
     "output_type": "display_data"
    }
   ],
   "source": [
    "# 3a) lamb = diag(-1,-100); h = 0.1\n",
    "lamb = np.diag([-1,-100])\n",
    "h = 0.1\n",
    "x = np.arange(0,2,h)+h\n",
    "y = np.ones([x.shape[0]+1,2])\n",
    "\n",
    "\n",
    "for i in range(0,x.shape[0]):\n",
    "    y[i+1,:] = RK(h, y[i,:], lamb)\n",
    "\n",
    "\n",
    "err = np.log(np.abs(np.sum(y[0:x.shape[0],:]**2,axis=1)-(np.exp(-2*x)+np.exp(-200*x))))\n",
    "e1 = err[x.shape[0]-1]\n",
    "\n",
    "# 3a)  h = 0.05\n",
    "lamb = np.diag([-1,-100])\n",
    "h = 0.05\n",
    "x = np.arange(0,2,h)+h\n",
    "y = np.ones([x.shape[0]+1,2])\n",
    "\n",
    "\n",
    "for i in range(0,x.shape[0]):\n",
    "    y[i+1,:] = RK(h, y[i,:], lamb)\n",
    "\n",
    "\n",
    "err = np.log(np.abs(np.sum(y[0:x.shape[0],:]**2,axis=1)-(np.exp(-2*x)+np.exp(-200*x))))\n",
    "e2 = err[x.shape[0]-1]\n",
    "\n",
    "\n",
    "# 3a)  h = 0.02\n",
    "lamb = np.diag([-1,-100])\n",
    "h = 0.02\n",
    "x = np.arange(0,2,h)+h\n",
    "y = np.ones([x.shape[0]+1,2])\n",
    "\n",
    "\n",
    "for i in range(0,x.shape[0]):\n",
    "    y[i+1,:] = RK(h, y[i,:], lamb)\n",
    "\n",
    "\n",
    "err = np.log(np.abs(np.sum(y[0:x.shape[0],:]**2,axis=1)-(np.exp(-2*x)+np.exp(-200*x))))\n",
    "e3 = err[x.shape[0]-1]\n",
    "\n",
    "\n",
    "# 3a)  h = 0.01\n",
    "lamb = np.diag([-1,-100])\n",
    "h = 0.01\n",
    "x = np.arange(0,2,h)+h\n",
    "y = np.ones([x.shape[0]+1,2])\n",
    "\n",
    "\n",
    "for i in range(0,x.shape[0]):\n",
    "    y[i+1,:] = RK(h, y[i,:], lamb)\n",
    "\n",
    "\n",
    "err = np.log(np.abs(np.sum(y[0:x.shape[0],:]**2,axis=1)-(np.exp(-2*x)+np.exp(-200*x))))\n",
    "e4 = err[x.shape[0]-1]\n",
    "\n",
    "\n",
    "# 3a)  h = 0.005\n",
    "lamb = np.diag([-1,-100])\n",
    "h = 0.005\n",
    "x = np.arange(0,2,h)+h\n",
    "y = np.ones([x.shape[0]+1,2])\n",
    "\n",
    "\n",
    "for i in range(0,x.shape[0]):\n",
    "    y[i+1,:] = RK(h, y[i,:], lamb)\n",
    "\n",
    "\n",
    "err = np.log(np.abs(np.sum(y[0:x.shape[0],:]**2,axis=1)-(np.exp(-2*x)+np.exp(-200*x))))\n",
    "e5 = err[x.shape[0]-1]\n",
    "\n",
    "\n",
    "plt.plot(np.log([0.1,0.05,0.02,0.01,0.005]),[e1,e2,e3,e4,e5],'rx')\n",
    "plt.xlabel(\"log h\")\n",
    "plt.ylabel(\"log err\")\n",
    "plt.title(\"Error at t=2\")\n",
    "\n",
    "\n",
    "\n",
    "## We can see that the approximations errors are getting small as \n",
    "## stepsize h becomes small."
   ]
  },
  {
   "cell_type": "code",
   "execution_count": 343,
   "metadata": {},
   "outputs": [
    {
     "data": {
      "text/plain": [
       "Text(0.5, 1.0, 'Blue = y1; Red = Estimate of y1; Green = y2; Yellow = Estimate of y2; h = 0.005')"
      ]
     },
     "execution_count": 343,
     "metadata": {},
     "output_type": "execute_result"
    },
    {
     "data": {
      "image/png": "[encoded data removed]",
      "text/plain": [
       "<Figure size 432x288 with 1 Axes>"
      ]
     },
     "metadata": {
      "needs_background": "light"
     },
     "output_type": "display_data"
    }
   ],
   "source": [
    "plt.plot(x, y[:x.shape[0],0],'r-',x,np.exp(lamb[0,0]*x),'b-')\n",
    "plt.xlabel(\"x\")\n",
    "plt.ylabel(\"y1\")\n",
    "\n",
    "plt.plot(x, y[:x.shape[0],1],'g-',x,np.exp(lamb[1,1]*x),'y-')\n",
    "plt.xlabel(\"x\")\n",
    "plt.ylabel(\"y2\")\n",
    "plt.title(\"Blue = y1; Red = Estimate of y1; Green = y2; Yellow = Estimate of y2; h = 0.005\")\n",
    "\n",
    "\n",
    "\n",
    "\n",
    "## We can see that the approximations are getting very close to the exact values as \n",
    "## stepsize h becomes small."
   ]
  },
  {
   "cell_type": "code",
   "execution_count": null,
   "metadata": {},
   "outputs": [],
   "source": []
  },
  {
   "cell_type": "code",
   "execution_count": 344,
   "metadata": {},
   "outputs": [
    {
     "data": {
      "text/plain": [
       "Text(0.5, 1.0, 'Error at t=2, lambda = -23')"
      ]
     },
     "execution_count": 344,
     "metadata": {},
     "output_type": "execute_result"
    },
    {
     "data": {
      "image/png": "[encoded data removed]",
      "text/plain": [
       "<Figure size 432x288 with 1 Axes>"
      ]
     },
     "metadata": {
      "needs_background": "light"
     },
     "output_type": "display_data"
    }
   ],
   "source": [
    "# 4-Stage Runge Kutta for Lambda = -23 with varying step size\n",
    "\n",
    "\n",
    "lamb = -23\n",
    "\n",
    "# 3a) h = 0.1\n",
    "h = 0.1\n",
    "x = np.arange(0,2,h)+h\n",
    "y = np.ones(x.shape[0]+1)\n",
    "\n",
    "\n",
    "for i in range(0,x.shape[0]):\n",
    "    y[i+1] = RK4(h, y[i], lamb)\n",
    "\n",
    "err = np.log(np.abs(y[0:x.shape[0]]-np.exp(lamb*x)))\n",
    "e1 = err[x.shape[0]-1]\n",
    "\n",
    "# 3a) h = 0.05\n",
    "h = 0.05\n",
    "x = np.arange(0,2,h)+h\n",
    "y = np.ones(x.shape[0]+1)\n",
    "\n",
    "for i in range(0,x.shape[0]):\n",
    "    y[i+1] = RK4(h, y[i], lamb)\n",
    "\n",
    "err = np.log(np.abs(y[0:x.shape[0]]-np.exp(lamb*x)))\n",
    "e1 = err[x.shape[0]-1]\n",
    "\n",
    "\n",
    "# 3a) h = 0.02\n",
    "h = 0.02\n",
    "x = np.arange(0,2,h)+h\n",
    "y = np.ones(x.shape[0]+1)\n",
    "\n",
    "\n",
    "for i in range(0,x.shape[0]):\n",
    "    y[i+1] = RK4(h, y[i], lamb)\n",
    "\n",
    "err = np.log(np.abs(y[0:x.shape[0]]-np.exp(lamb*x)))\n",
    "e3 = err[x.shape[0]-1]\n",
    "\n",
    "\n",
    "# 3a) h = 0.01\n",
    "h = 0.001\n",
    "x = np.arange(0,2,h)+h\n",
    "y = np.ones(x.shape[0]+1)\n",
    "\n",
    "\n",
    "for i in range(0,x.shape[0]):\n",
    "    y[i+1] = RK4(h, y[i], lamb)\n",
    "\n",
    "err = np.log(np.abs(y[0:x.shape[0]]-np.exp(lamb*x)))\n",
    "e4 = err[x.shape[0]-1]\n",
    "\n",
    "\n",
    "# 3a) h = 0.005\n",
    "h = 0.005\n",
    "x = np.arange(0,2,h)+h\n",
    "y = np.ones(x.shape[0]+1)\n",
    "\n",
    "\n",
    "for i in range(0,x.shape[0]):\n",
    "    y[i+1] = RK4(h, y[i], lamb)\n",
    "\n",
    "err = np.log(np.abs(y[0:x.shape[0]]-np.exp(lamb*x)))\n",
    "e5 = err[x.shape[0]-1]\n",
    "\n",
    "\n",
    "plt.plot(np.log([0.1,0.05,0.02,0.01,0.005]),[e1,e2,e3,e4,e5],'rx')\n",
    "plt.xlabel(\"log h\")\n",
    "plt.ylabel(\"log err\")\n",
    "plt.title(\"Error at t=2, lambda = -23\")\n",
    "\n",
    "## We can see that the approximations errors are getting small as \n",
    "## stepsize h becomes small.\n"
   ]
  },
  {
   "cell_type": "code",
   "execution_count": 345,
   "metadata": {},
   "outputs": [
    {
     "data": {
      "text/plain": [
       "Text(0.5, 1.0, 'Blue = y; Red = Estimate; lambda = -23; h = 0.005')"
      ]
     },
     "execution_count": 345,
     "metadata": {},
     "output_type": "execute_result"
    },
    {
     "data": {
      "image/png": "[encoded data removed]",
      "text/plain": [
       "<Figure size 432x288 with 1 Axes>"
      ]
     },
     "metadata": {
      "needs_background": "light"
     },
     "output_type": "display_data"
    }
   ],
   "source": [
    "plt.plot(x, y[:x.shape[0]],'r-',x,np.exp(lamb*x),'b-')\n",
    "plt.xlabel(\"x\")\n",
    "plt.ylabel(\"y\")\n",
    "\n",
    "plt.title(\"Blue = y; Red = Estimate; lambda = -23; h = 0.005\")\n",
    "\n",
    "## We can see that the approximations are getting very close to the exact values as \n",
    "## stepsize h becomes small."
   ]
  },
  {
   "cell_type": "code",
   "execution_count": null,
   "metadata": {},
   "outputs": [],
   "source": []
  },
  {
   "cell_type": "code",
   "execution_count": null,
   "metadata": {},
   "outputs": [],
   "source": []
  },
  {
   "cell_type": "code",
   "execution_count": 350,
   "metadata": {},
   "outputs": [
    {
     "data": {
      "text/plain": [
       "Text(0.5, 1.0, 'Error at t=2, lambda = 1')"
      ]
     },
     "execution_count": 350,
     "metadata": {},
     "output_type": "execute_result"
    },
    {
     "data": {
      "image/png": "[encoded data removed]",
      "text/plain": [
       "<Figure size 432x288 with 1 Axes>"
      ]
     },
     "metadata": {
      "needs_background": "light"
     },
     "output_type": "display_data"
    }
   ],
   "source": [
    "# 4-Stage Runge Kutta for Lambda = 1 with varying step size\n",
    "\n",
    "\n",
    "lamb = 1\n",
    "\n",
    "# 3a) h = 0.1\n",
    "h = 0.1\n",
    "x = np.arange(0,2,h)+h\n",
    "y = np.ones(x.shape[0]+1)\n",
    "\n",
    "\n",
    "for i in range(0,x.shape[0]):\n",
    "    y[i+1] = RK4(h, y[i], lamb)\n",
    "\n",
    "err = np.log(np.abs(y[0:x.shape[0]]-np.exp(lamb*x)))\n",
    "e1 = err[x.shape[0]-1]\n",
    "\n",
    "# 3a) h = 0.05\n",
    "h = 0.05\n",
    "x = np.arange(0,2,h)+h\n",
    "y = np.ones(x.shape[0]+1)\n",
    "\n",
    "for i in range(0,x.shape[0]):\n",
    "    y[i+1] = RK4(h, y[i], lamb)\n",
    "\n",
    "err = np.log(np.abs(y[0:x.shape[0]]-np.exp(lamb*x)))\n",
    "e1 = err[x.shape[0]-1]\n",
    "\n",
    "\n",
    "# 3a) h = 0.02\n",
    "h = 0.02\n",
    "x = np.arange(0,2,h)+h\n",
    "y = np.ones(x.shape[0]+1)\n",
    "\n",
    "\n",
    "for i in range(0,x.shape[0]):\n",
    "    y[i+1] = RK4(h, y[i], lamb)\n",
    "\n",
    "err = np.log(np.abs(y[0:x.shape[0]]-np.exp(lamb*x)))\n",
    "e3 = err[x.shape[0]-1]\n",
    "\n",
    "\n",
    "# 3a) h = 0.01\n",
    "h = 0.001\n",
    "x = np.arange(0,2,h)+h\n",
    "y = np.ones(x.shape[0]+1)\n",
    "\n",
    "\n",
    "for i in range(0,x.shape[0]):\n",
    "    y[i+1] = RK4(h, y[i], lamb)\n",
    "\n",
    "err = np.log(np.abs(y[0:x.shape[0]]-np.exp(lamb*x)))\n",
    "e4 = err[x.shape[0]-1]\n",
    "\n",
    "\n",
    "# 3a) h = 0.005\n",
    "h = 0.005\n",
    "x = np.arange(0,2,h)+h\n",
    "y = np.ones(x.shape[0]+1)\n",
    "\n",
    "\n",
    "for i in range(0,x.shape[0]):\n",
    "    y[i+1] = RK4(h, y[i], lamb)\n",
    "\n",
    "err = np.log(np.abs(y[0:x.shape[0]]-np.exp(lamb*x)))\n",
    "e5 = err[x.shape[0]-1]\n",
    "\n",
    "\n",
    "plt.plot(np.log([0.1,0.05,0.02,0.01,0.005]),[e1,e2,e3,e4,e5],'rx')\n",
    "plt.xlabel(\"log h\")\n",
    "plt.ylabel(\"log err\")\n",
    "plt.title(\"Error at t=2, lambda = 1\")\n",
    "\n",
    "## We can see that the approximations errors are getting small as \n",
    "## stepsize h becomes small.\n"
   ]
  },
  {
   "cell_type": "code",
   "execution_count": 351,
   "metadata": {},
   "outputs": [
    {
     "data": {
      "text/plain": [
       "Text(0.5, 1.0, 'Blue = y; Red = Estimate; lambda = 1; h = 0.005')"
      ]
     },
     "execution_count": 351,
     "metadata": {},
     "output_type": "execute_result"
    },
    {
     "data": {
      "image/png": "[encoded data removed]",
      "text/plain": [
       "<Figure size 432x288 with 1 Axes>"
      ]
     },
     "metadata": {
      "needs_background": "light"
     },
     "output_type": "display_data"
    }
   ],
   "source": [
    "plt.plot(x, y[:x.shape[0]],'r-',x,np.exp(lamb*x),'b-')\n",
    "plt.xlabel(\"x\")\n",
    "plt.ylabel(\"y\")\n",
    "\n",
    "plt.title(\"Blue = y; Red = Estimate; lambda = 1; h = 0.005\")\n",
    "\n",
    "## We can see that the approximations are getting very close to the exact values as \n",
    "## stepsize h becomes small."
   ]
  },
  {
   "cell_type": "code",
   "execution_count": null,
   "metadata": {},
   "outputs": [],
   "source": []
  },
  {
   "cell_type": "code",
   "execution_count": null,
   "metadata": {},
   "outputs": [],
   "source": []
  },
  {
   "cell_type": "code",
   "execution_count": null,
   "metadata": {},
   "outputs": [],
   "source": []
  },
  {
   "cell_type": "code",
   "execution_count": 352,
   "metadata": {},
   "outputs": [
    {
     "data": {
      "text/plain": [
       "Text(0.5, 1.0, 'Error at t=2')"
      ]
     },
     "execution_count": 352,
     "metadata": {},
     "output_type": "execute_result"
    },
    {
     "data": {
      "image/png": "[encoded data removed]",
      "text/plain": [
       "<Figure size 432x288 with 1 Axes>"
      ]
     },
     "metadata": {
      "needs_background": "light"
     },
     "output_type": "display_data"
    }
   ],
   "source": [
    "# 4-Step Runge-Kutta Method\n",
    "\n",
    "# 3a) lamb = diag(-1,-100); h = 0.1\n",
    "lamb = np.diag([-1,-100])\n",
    "h = 0.1\n",
    "x = np.arange(0,2,h)+h\n",
    "y = np.ones([x.shape[0]+1,2])\n",
    "\n",
    "\n",
    "for i in range(0,x.shape[0]):\n",
    "    y[i+1,:] = RK(h, y[i,:], lamb)\n",
    "\n",
    "\n",
    "err = np.log(np.abs(np.sum(y[0:x.shape[0],:]**2,axis=1)-(np.exp(-2*x)+np.exp(-200*x))))\n",
    "e1 = err[x.shape[0]-1]\n",
    "\n",
    "# 3a)  h = 0.05\n",
    "lamb = np.diag([-1,-100])\n",
    "h = 0.05\n",
    "x = np.arange(0,2,h)+h\n",
    "y = np.ones([x.shape[0]+1,2])\n",
    "\n",
    "\n",
    "for i in range(0,x.shape[0]):\n",
    "    y[i+1,:] = RK(h, y[i,:], lamb)\n",
    "\n",
    "\n",
    "err = np.log(np.abs(np.sum(y[0:x.shape[0],:]**2,axis=1)-(np.exp(-2*x)+np.exp(-200*x))))\n",
    "e2 = err[x.shape[0]-1]\n",
    "\n",
    "\n",
    "# 3a)  h = 0.02\n",
    "lamb = np.diag([-1,-100])\n",
    "h = 0.02\n",
    "x = np.arange(0,2,h)+h\n",
    "y = np.ones([x.shape[0]+1,2])\n",
    "\n",
    "\n",
    "for i in range(0,x.shape[0]):\n",
    "    y[i+1,:] = RK(h, y[i,:], lamb)\n",
    "\n",
    "\n",
    "err = np.log(np.abs(np.sum(y[0:x.shape[0],:]**2,axis=1)-(np.exp(-2*x)+np.exp(-200*x))))\n",
    "e3 = err[x.shape[0]-1]\n",
    "\n",
    "\n",
    "# 3a)  h = 0.01\n",
    "lamb = np.diag([-1,-100])\n",
    "h = 0.01\n",
    "x = np.arange(0,2,h)+h\n",
    "y = np.ones([x.shape[0]+1,2])\n",
    "\n",
    "\n",
    "for i in range(0,x.shape[0]):\n",
    "    y[i+1,:] = RK(h, y[i,:], lamb)\n",
    "\n",
    "\n",
    "err = np.log(np.abs(np.sum(y[0:x.shape[0],:]**2,axis=1)-(np.exp(-2*x)+np.exp(-200*x))))\n",
    "e4 = err[x.shape[0]-1]\n",
    "\n",
    "\n",
    "# 3a)  h = 0.005\n",
    "lamb = np.diag([-1,-100])\n",
    "h = 0.005\n",
    "x = np.arange(0,2,h)+h\n",
    "y = np.ones([x.shape[0]+1,2])\n",
    "\n",
    "\n",
    "for i in range(0,x.shape[0]):\n",
    "    y[i+1,:] = RK(h, y[i,:], lamb)\n",
    "\n",
    "\n",
    "err = np.log(np.abs(np.sum(y[0:x.shape[0],:]**2,axis=1)-(np.exp(-2*x)+np.exp(-200*x))))\n",
    "e5 = err[x.shape[0]-1]\n",
    "\n",
    "\n",
    "plt.plot(np.log([0.1,0.05,0.02,0.01,0.005]),[e1,e2,e3,e4,e5],'rx')\n",
    "plt.xlabel(\"log h\")\n",
    "plt.ylabel(\"log err\")\n",
    "plt.title(\"Error at t=2\")\n",
    "\n",
    "\n",
    "\n",
    "## We can see that the approximations errors are getting small as \n",
    "## stepsize h becomes small."
   ]
  },
  {
   "cell_type": "code",
   "execution_count": 353,
   "metadata": {},
   "outputs": [
    {
     "data": {
      "text/plain": [
       "Text(0.5, 1.0, 'Blue = y1; Red = Estimate of y1; Green = y2; Yellow = Estimate of y2; h = 0.005')"
      ]
     },
     "execution_count": 353,
     "metadata": {},
     "output_type": "execute_result"
    },
    {
     "data": {
      "image/png": "[encoded data removed]",
      "text/plain": [
       "<Figure size 432x288 with 1 Axes>"
      ]
     },
     "metadata": {
      "needs_background": "light"
     },
     "output_type": "display_data"
    }
   ],
   "source": [
    "plt.plot(x, y[:x.shape[0],0],'r-',x,np.exp(lamb[0,0]*x),'b-')\n",
    "plt.xlabel(\"x\")\n",
    "plt.ylabel(\"y1\")\n",
    "\n",
    "plt.plot(x, y[:x.shape[0],1],'g-',x,np.exp(lamb[1,1]*x),'y-')\n",
    "plt.xlabel(\"x\")\n",
    "plt.ylabel(\"y2\")\n",
    "plt.title(\"Blue = y1; Red = Estimate of y1; Green = y2; Yellow = Estimate of y2; h = 0.005\")\n",
    "\n",
    "\n",
    "\n",
    "\n",
    "## We can see that the approximations are getting very close to the exact values as \n",
    "## stepsize h becomes small."
   ]
  },
  {
   "cell_type": "code",
   "execution_count": null,
   "metadata": {},
   "outputs": [],
   "source": []
  },
  {
   "cell_type": "code",
   "execution_count": null,
   "metadata": {},
   "outputs": [],
   "source": []
  },
  {
   "cell_type": "code",
   "execution_count": null,
   "metadata": {},
   "outputs": [],
   "source": []
  },
  {
   "cell_type": "code",
   "execution_count": null,
   "metadata": {},
   "outputs": [],
   "source": []
  },
  {
   "cell_type": "code",
   "execution_count": null,
   "metadata": {},
   "outputs": [],
   "source": []
  }
 ],
 "metadata": {
  "kernelspec": {
   "display_name": "Python 3",
   "language": "python",
   "name": "python3"
  },
  "language_info": {
   "codemirror_mode": {
    "name": "ipython",
    "version": 3
   },
   "file_extension": ".py",
   "mimetype": "text/x-python",
   "name": "python",
   "nbconvert_exporter": "python",
   "pygments_lexer": "ipython3",
   "version": "3.8.3"
  }
 },
 "nbformat": 4,
 "nbformat_minor": 4
}
