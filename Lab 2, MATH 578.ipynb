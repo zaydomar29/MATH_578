{
 "cells": [
  {
   "cell_type": "code",
   "execution_count": 232,
   "metadata": {},
   "outputs": [],
   "source": [
    "#*#*#*#*#*#*#*#*#*#*#*#*\n",
    "#*  Q1 & Q2 combined  *#\n",
    "#*#*#*#*#*#*#*#*#*#*#*#*\n",
    "\n",
    "\n",
    "# Function to calculate the '2'-norm of a vector\n",
    "def norm(v):\n",
    "    val = sum(np.power(v,2))**0.5\n",
    "    return val\n",
    "\n",
    "\n",
    "# The following function gives us the unique A=QR decompition\n",
    "# Uniqueness has been achieved by keeping the diagonal entries\n",
    "# of the matrix R positive. We use Householder reflections to\n",
    "# find the orthogonal matrix Q and the upper triangular matrix\n",
    "# R.\n",
    "\n",
    "# QR decomposition using Houselholder reflections\n",
    "def householder(m):\n",
    "    Z = np.eye(m.shape[1])\n",
    "    for i in range(0,m.shape[1]-1):\n",
    "        x = np.zeros(m.shape[1]-i)\n",
    "        x[0] = norm(m[i:,i])\n",
    "        u = m[i:,i]-x\n",
    "        v = u/norm(u)\n",
    "        Q_temp = np.eye(m.shape[1]-i)-2*np.outer(v,v)\n",
    "        Q = np.eye(m.shape[1])\n",
    "        Q[i:,i:] = Q_temp\n",
    "        Z = np.dot(Q,Z)\n",
    "        m = np.dot(Q,m)\n",
    "    \n",
    "    D = np.diag(np.sign(np.diag(m))) \n",
    "    D_inv = D\n",
    "    \n",
    "    m = np.dot(D,m)               # Unique representation with positive diagonal entries\n",
    "    Z = np.dot(Z.T,D_inv)\n",
    "    \n",
    "    return m, Z"
   ]
  },
  {
   "cell_type": "code",
   "execution_count": 233,
   "metadata": {},
   "outputs": [],
   "source": [
    "# We start of the problem by generating some random integers. We have chose integers just \n",
    "# for their visual appeal and so that we do not have to deal with high decimal places in\n",
    "# the orgiganl matrix, m, which we will decompose. We restrict ourselves to square, N x N,\n",
    "# matrices. For now we also keep N relatively small (but the method works for all N)\n",
    "\n",
    "\n",
    "import numpy as np\n",
    "n = 7\n",
    "m = np.random.randint(-5,5,[n,n])\n",
    "m = np.dot(m.T,m)  # Gives a symmetric matrix"
   ]
  },
  {
   "cell_type": "code",
   "execution_count": 234,
   "metadata": {},
   "outputs": [
    {
     "name": "stdout",
     "output_type": "stream",
     "text": [
      "The upper triangular matrix R is:\n",
      "\n",
      "\n",
      "[[113.9  38.2  88.  -72.5   1.1 -19.2 -16.6]\n",
      " [ -0.   44.8  28.9 -59.  -49.7  18.4  12.7]\n",
      " [  0.   -0.   65.  -14.5  30.8  59.9 -71. ]\n",
      " [  0.    0.    0.   13.5 -31.2 -32.3  16.5]\n",
      " [ -0.    0.   -0.   -0.   28.6  26.8 -29.7]\n",
      " [ -0.    0.   -0.   -0.    0.    8.1 -16.8]\n",
      " [ -0.   -0.    0.    0.   -0.   -0.    0.7]]\n"
     ]
    }
   ],
   "source": [
    "# Implementing Householder reflections using our function `househiolder' on the\n",
    "# matrix `m'.\n",
    "\n",
    "R, Q = householder(m)\n",
    "\n",
    "print(\"The upper triangular matrix R is:\")\n",
    "print(\"\\n\")\n",
    "print(np.around(R,decimals=1))"
   ]
  },
  {
   "cell_type": "code",
   "execution_count": 235,
   "metadata": {},
   "outputs": [
    {
     "name": "stdout",
     "output_type": "stream",
     "text": [
      "QR=\n",
      " [[ 89.  19.  47. -40.  10. -27.  -7.]\n",
      " [ 19.  30.  20. -37. -20.   4.   4.]\n",
      " [ 47.  20.  84. -42.  -0.  15. -34.]\n",
      " [-40. -37. -42.  63.  16. -13.   1.]\n",
      " [ 10. -20.   0.  16.  57.  19. -29.]\n",
      " [-27.   4.  15. -13.  19.  57. -37.]\n",
      " [ -7.   4. -34.   1. -29. -37.  59.]] \n",
      " \n",
      " m=\n",
      " [[ 89  19  47 -40  10 -27  -7]\n",
      " [ 19  30  20 -37 -20   4   4]\n",
      " [ 47  20  84 -42   0  15 -34]\n",
      " [-40 -37 -42  63  16 -13   1]\n",
      " [ 10 -20   0  16  57  19 -29]\n",
      " [-27   4  15 -13  19  57 -37]\n",
      " [ -7   4 -34   1 -29 -37  59]]\n"
     ]
    }
   ],
   "source": [
    "# We can see that our decomposition works fine since the we get A=QR.\n",
    "\n",
    "print(\"QR=\\n\",np.round(np.dot(Q,R),5),\"\\n \\n\",\"m=\\n\",m)\n"
   ]
  },
  {
   "cell_type": "code",
   "execution_count": 236,
   "metadata": {},
   "outputs": [],
   "source": [
    "#*#*#*#*#*#*#*#*#*#*#*#*\n",
    "#*        Q3          *#\n",
    "#*#*#*#*#*#*#*#*#*#*#*#*\n",
    "\n",
    "\n",
    "# This function modifies the Householder reflections to produce\n",
    "# a Hessenberg matrix\n",
    "\n",
    "def hessenberg(m):\n",
    "    Z = np.eye(m.shape[1])\n",
    "    for i in range(0,m.shape[1]-2):\n",
    "        x = np.zeros(m.shape[1]-i-1)\n",
    "        x[0] = norm(m[(i+1):,(i)])\n",
    "        u = m[(i+1):,(i)]-x\n",
    "        v = u/norm(u)\n",
    "        Q_temp = np.eye(m.shape[1]-i-1)-2*np.outer(v,v)\n",
    "        Q = np.eye(m.shape[1])\n",
    "        Q[(i+1):,(i+1):] = Q_temp\n",
    "        Z = np.dot(Q,Z)\n",
    "        m = np.dot(Q,m)\n",
    "    \n",
    "    D = np.diag(np.sign(np.diag(m))) \n",
    "    D_inv = np.linalg.inv(D)\n",
    "    \n",
    "    m = np.dot(D,m)               # Unique representation with positive diagonal entries\n",
    "    Z = np.dot(Z.T,D_inv)\n",
    "    \n",
    "    return m, Z\n",
    "\n",
    "# If A is a realy symmetric matrix we can use Householder reflections\n",
    "# to decompose A to a tridiagonal matrix T, which is given by\n",
    "# A = Q*T*Q^t. where Q is an orthogonal matrix and simultaneously \n",
    "# Q^t*A*Q = T\n",
    "\n",
    "def tridiagonal(m):\n",
    "    # Here m must be a symmetric\n",
    "    \n",
    "    Z = np.eye(m.shape[1])\n",
    "    for i in range(0,m.shape[1]-2):\n",
    "        x = np.zeros(m.shape[1]-i-1)\n",
    "        x[0] = norm(m[(i+1):,(i)])\n",
    "        u = m[(i+1):,(i)]-x\n",
    "        v = u/norm(u)\n",
    "        Q_temp = np.eye(m.shape[1]-i-1)-2*np.outer(v,v)\n",
    "        Q = np.eye(m.shape[1])\n",
    "        Q[(i+1):,(i+1):] = Q_temp\n",
    "        Z = np.dot(Q,Z)\n",
    "        m = np.dot(np.dot(Q,m),Q)\n",
    "    \n",
    "    # We enforce EXACT symmetry\n",
    "    for i in range(0,m.shape[1]-1):\n",
    "        for j in range(i+1,m.shape[1]-1):\n",
    "            m[i,j] = m[j,i]\n",
    "    \n",
    "    return m, Z\n",
    "    \n",
    "    \n",
    "    \n",
    "    "
   ]
  },
  {
   "cell_type": "code",
   "execution_count": 237,
   "metadata": {},
   "outputs": [
    {
     "name": "stdout",
     "output_type": "stream",
     "text": [
      "Hessenberg reduction:\n",
      "\n",
      "[[ 89.      19.      47.     -40.      10.     -27.      -7.    ]\n",
      " [ 71.0493  37.3544  82.2105 -66.0527 -10.6968   2.9698 -17.8186]\n",
      " [ -0.      41.2995  16.6365 -52.8249 -47.7591  11.8661  17.8356]\n",
      " [ -0.       0.     -59.7131  13.9659 -31.3655 -59.5756  70.5179]\n",
      " [  0.       0.      -0.     -13.3986  30.404   31.0468 -14.8782]\n",
      " [ -0.      -0.       0.       0.      28.3452  25.998  -28.4211]\n",
      " [ -0.      -0.       0.      -0.      -0.      -7.0942  15.0496]]\n"
     ]
    }
   ],
   "source": [
    "# Computing the Hessenberg form\n",
    "R, Q = hessenberg(m)\n",
    "print(\"Hessenberg reduction:\\n\")\n",
    "print(np.round(R,4))\n"
   ]
  },
  {
   "cell_type": "code",
   "execution_count": 238,
   "metadata": {},
   "outputs": [
    {
     "name": "stdout",
     "output_type": "stream",
     "text": [
      "The tridiagonal matrix is:\n",
      "[[ 89.       71.04928  -0.        0.        0.        0.       -0.     ]\n",
      " [ 71.04928 100.68106  53.11266   0.        0.       -0.       -0.     ]\n",
      " [ -0.       53.11266  79.17893  24.50416  -0.       -0.       -0.     ]\n",
      " [  0.        0.       24.50416  85.87987  44.00944  -0.       -0.     ]\n",
      " [  0.        0.       -0.       44.00944  55.19041  14.4062   -0.     ]\n",
      " [  0.       -0.       -0.       -0.       14.4062   23.722     4.46095]\n",
      " [ -0.       -0.        0.       -0.        0.        4.46095   5.34773]]\n",
      "\n",
      "\n",
      "The orthogonal matrix Q:\n",
      "[[ 1.   0.   0.   0.   0.   0.   0. ]\n",
      " [ 0.   0.3  0.7 -0.6  0.1 -0.4 -0.1]\n",
      " [ 0.   0.2  0.3 -0.2 -0.5  0.8 -0.1]\n",
      " [ 0.   0.  -0.2 -0.2  0.6  0.3 -0.7]\n",
      " [ 0.  -0.4  0.6  0.5  0.3  0.2  0. ]\n",
      " [ 0.  -0.2  0.1  0.2 -0.5 -0.4 -0.7]\n",
      " [ 0.   0.8  0.   0.5  0.1 -0.1 -0.1]]\n"
     ]
    }
   ],
   "source": [
    "T, Q = tridiagonal(m)\n",
    "print(\"The tridiagonal matrix is:\")\n",
    "print(np.round(T,5))\n",
    "\n",
    "print(\"\\n\"+\"\\n\"+\"The orthogonal matrix Q:\")\n",
    "print(np.round(Q,1))"
   ]
  },
  {
   "cell_type": "code",
   "execution_count": 239,
   "metadata": {},
   "outputs": [
    {
     "name": "stdout",
     "output_type": "stream",
     "text": [
      "Easy to check that Q^t*T*Q=m \n",
      "\n",
      "Q^t*T*Q\n",
      "[[ 89.  19.  47. -40.  10. -27.  -7.]\n",
      " [ 19.  30.  20. -37. -20.   4.   4.]\n",
      " [ 47.  20.  84. -42.  -0.  15. -34.]\n",
      " [-40. -37. -42.  63.  16. -13.   1.]\n",
      " [ 10. -20.  -0.  16.  57.  19. -29.]\n",
      " [-27.   4.  15. -13.  19.  57. -37.]\n",
      " [ -7.   4. -34.   1. -29. -37.  59.]]\n",
      "\n",
      "\n",
      "\n",
      "m\n",
      "[[ 89  19  47 -40  10 -27  -7]\n",
      " [ 19  30  20 -37 -20   4   4]\n",
      " [ 47  20  84 -42   0  15 -34]\n",
      " [-40 -37 -42  63  16 -13   1]\n",
      " [ 10 -20   0  16  57  19 -29]\n",
      " [-27   4  15 -13  19  57 -37]\n",
      " [ -7   4 -34   1 -29 -37  59]]\n"
     ]
    }
   ],
   "source": [
    "print(\"Easy to check that Q^t*T*Q=m \\n\")\n",
    "\n",
    "print(\"Q^t*T*Q\")\n",
    "print(np.round(np.dot(Q.T,np.dot(T,Q)),4))\n",
    "print(\"\\n\"+\"\\n\")\n",
    "print(\"m\")\n",
    "print(m)"
   ]
  },
  {
   "cell_type": "code",
   "execution_count": 240,
   "metadata": {},
   "outputs": [
    {
     "name": "stdout",
     "output_type": "stream",
     "text": [
      "Easy to check that Q^t*Q=I\n",
      "[[ 1.  0.  0.  0.  0.  0.  0.]\n",
      " [ 0.  1. -0. -0.  0.  0. -0.]\n",
      " [ 0. -0.  1.  0. -0.  0. -0.]\n",
      " [ 0. -0.  0.  1. -0.  0. -0.]\n",
      " [ 0.  0. -0. -0.  1. -0. -0.]\n",
      " [ 0.  0.  0.  0. -0.  1.  0.]\n",
      " [ 0. -0. -0. -0. -0.  0.  1.]]\n",
      "\n",
      "\n",
      "\n",
      "And that Q*Q^t=I\n",
      "[[ 1.  0.  0.  0.  0.  0.  0.]\n",
      " [ 0.  1. -0. -0. -0. -0.  0.]\n",
      " [ 0. -0.  1. -0. -0. -0.  0.]\n",
      " [ 0. -0. -0.  1. -0. -0.  0.]\n",
      " [ 0. -0. -0. -0.  1. -0.  0.]\n",
      " [ 0. -0. -0. -0. -0.  1.  0.]\n",
      " [ 0.  0.  0.  0.  0.  0.  1.]]\n"
     ]
    }
   ],
   "source": [
    "print(\"Easy to check that Q^t*Q=I\")\n",
    "print(np.round(np.dot(Q,Q.T),4))\n",
    "\n",
    "print(\"\\n\"+\"\\n\")\n",
    "\n",
    "print(\"And that Q*Q^t=I\")\n",
    "print(np.round(np.dot(Q.T,Q),4))"
   ]
  },
  {
   "cell_type": "code",
   "execution_count": 241,
   "metadata": {},
   "outputs": [],
   "source": [
    "#*#*#*#*#*#*#*#*#*#*#*#*\n",
    "#*        Q4          *#\n",
    "#*#*#*#*#*#*#*#*#*#*#*#*\n",
    "\n",
    "\n",
    "# In this part we implement the PURE QR iteration\n",
    "# this take a matrix A and produces an upper triangular matrix\n",
    "# that contains the eigenvalues of A. Under the additional \n",
    "# assumption that A is symmetric we get the the iteration \n",
    "# converges to a diagonal containing the eigenvalues of A.\n",
    "\n",
    "def QR_pure(m, nmax):\n",
    "    T, Q = tridiagonal(m)       # using the tridiagonal form of m\n",
    "    A = T\n",
    "    estimated_eigen = np.sort(np.diag(A))\n",
    "    \n",
    "    for i in range(0,nmax):\n",
    "        R, Q = householder(A)\n",
    "        A = np.dot(R,Q)\n",
    "        estimated_eigen = np.vstack([estimated_eigen,np.sort(np.diag(A))])\n",
    "        test = A[m.shape[1]-1,m.shape[1]-1]\n",
    "    return A, estimated_eigen\n",
    "\n",
    "\n",
    "def QR_shift(m, nmax):\n",
    "    T, Q = tridiagonal(m)                                     # using the tridiagonal form of m\n",
    "    A = T\n",
    "    estimated_eigen = np.sort(np.diag(A))                     # Stores the intermediate eigenvalues\n",
    "    mu = A[m.shape[1]-1,m.shape[1]-1]                         # mu based on Rayleigh Coefficient \n",
    "    \n",
    "    for i in range(0,nmax):\n",
    "        R, Q = householder(A-mu*np.eye(m.shape[1]))           # QR using Householder\n",
    "        A = np.dot(R,Q)+mu*np.eye(m.shape[1])\n",
    "        mu = A[m.shape[1]-1,m.shape[1]-1]\n",
    "        estimated_eigen = np.vstack([estimated_eigen,np.sort(np.diag(A))])\n",
    "    return A, estimated_eigen\n",
    "\n",
    "def QR_wilkinson(m, nmax):\n",
    "    T, Q = tridiagonal(m)                                     # using the tridiagonal form of m\n",
    "    A = T\n",
    "    estimated_eigen = np.sort(np.diag(A))                     # Stores the intermediate eigenvalues\n",
    "    B = A[(A.shape[1]-2):,(A.shape[1]-2):]\n",
    "    delta = (B[0,0]-B[1,1])/2\n",
    "    mu = B[1,1]-np.sign(delta)*(B[0,1]**2)/(np.abs(delta)+(delta**2+B[0,1]**2)**0.5)\n",
    "                                                              # mu based on Wilkinson\n",
    "    for i in range(0,nmax):\n",
    "        R, Q = householder(A-mu*np.eye(m.shape[1]))           # QR using Householder\n",
    "        A = np.dot(R,Q)+mu*np.eye(m.shape[1])\n",
    "        B = A[(A.shape[1]-2):,(A.shape[1]-2):]\n",
    "        delta = (B[0,0]-B[1,1])/2\n",
    "        mu = B[1,1]-np.sign(delta)*(B[0,1]**2)/(np.abs(delta)+(delta**2+B[0,1]**2)**0.5)\n",
    "        estimated_eigen = np.vstack([estimated_eigen,np.sort(np.diag(A))])\n",
    "        \n",
    "    return A, estimated_eigen\n",
    "\n",
    "\n"
   ]
  },
  {
   "cell_type": "code",
   "execution_count": 242,
   "metadata": {},
   "outputs": [],
   "source": [
    "#*#*#*#*#*#*#*#*#*#*#*#*\n",
    "#*     Q5 & Q6        *#\n",
    "#*#*#*#*#*#*#*#*#*#*#*#*\n",
    "np.random.seed(12345)\n",
    "n = 10\n",
    "m = np.random.uniform(-10,10,[n,n])\n",
    "R, Q = householder(m)\n",
    "\n",
    "#Lambda = np.diag(np.random.randint(-2,2,[n]))       # Repeated Eigenvalue\n",
    "#Lambda = np.diag(np.random.uniform(-0.001,0.001,[n]))       # Extremely Small Eigenvalue\n",
    "Lambda = np.diag(np.random.uniform(900,1000,[n]))       # Extremely Large Eigenvalue\n",
    "m = np.dot(np.dot(Q.T, Lambda),Q)\n",
    "# print(np.round(m,2))\n"
   ]
  },
  {
   "cell_type": "code",
   "execution_count": 243,
   "metadata": {},
   "outputs": [
    {
     "name": "stdout",
     "output_type": "stream",
     "text": [
      "True eigenvalues are:\n",
      "[908.622 914.295 919.579 929.45  951.583 958.162 962.7   964.736 968.934\n",
      " 985.663]\n",
      "\n",
      "\n",
      "\n",
      "The eigenvalues for m from PURE QR are:\n",
      "[912.608 913.238 926.258 936.212 942.739 955.075 960.216 965.69  966.027\n",
      " 985.662]\n",
      "\n",
      "\n",
      "\n",
      "The eigenvalues for m from SHIFT QR are:\n",
      "[908.622 914.295 919.579 929.45  951.583 958.162 962.7   964.736 968.934\n",
      " 985.663]\n",
      "\n",
      "\n",
      "\n",
      "The eigenvalues for m from WILKINSON QR are:\n",
      "[908.622 914.295 919.579 929.45  951.583 958.162 962.7   964.736 968.934\n",
      " 985.663]\n"
     ]
    }
   ],
   "source": [
    "\n",
    "# Running a PURE QR:\n",
    "nmax = 250\n",
    "A, eA = QR_pure(m, nmax)\n",
    "B, eB = QR_shift(m, nmax)\n",
    "C, eC = QR_wilkinson(m, nmax)\n",
    "\n",
    "\n",
    "print(\"True eigenvalues are:\")\n",
    "print(np.sort(np.round(np.diag(Lambda),3)))\n",
    "\n",
    "print(\"\\n\"+\"\\n\")\n",
    "print(\"The eigenvalues for m from PURE QR are:\")\n",
    "print(np.sort(np.round(np.diag(A),3)))\n",
    "\n",
    "\n",
    "\n",
    "print(\"\\n\"+\"\\n\")\n",
    "print(\"The eigenvalues for m from SHIFT QR are:\")\n",
    "print(np.sort(np.round(np.diag(B),3)))\n",
    "\n",
    "\n",
    "\n",
    "print(\"\\n\"+\"\\n\")\n",
    "print(\"The eigenvalues for m from WILKINSON QR are:\")\n",
    "print(np.sort(np.round(np.diag(C),3)))\n",
    "\n",
    "\n",
    "\n"
   ]
  },
  {
   "cell_type": "code",
   "execution_count": 244,
   "metadata": {},
   "outputs": [
    {
     "name": "stderr",
     "output_type": "stream",
     "text": [
      "<ipython-input-244-f13d157954dc>:7: RuntimeWarning: divide by zero encountered in log\n",
      "  errB_min = np.log(np.abs(eB[:,0]-true_eval[0]))\n",
      "<ipython-input-244-f13d157954dc>:11: RuntimeWarning: divide by zero encountered in log\n",
      "  errC_min = np.log(np.abs(eC[:,0]-true_eval[0]))\n",
      "<ipython-input-244-f13d157954dc>:12: RuntimeWarning: divide by zero encountered in log\n",
      "  errC_mid = np.log(np.abs(eC[:,np.int(m.shape[1]/2)]-true_eval[np.int(m.shape[1]/2)]))\n"
     ]
    }
   ],
   "source": [
    "true_eval = np.sort(np.diag(Lambda))\n",
    "\n",
    "errA_min = np.log(np.abs(eA[:,0]-true_eval[0]))\n",
    "errA_mid = np.log(np.abs(eA[:,np.int(m.shape[1]/2)]-true_eval[np.int(m.shape[1]/2)]))\n",
    "errA_max = np.log(np.abs(eA[:,m.shape[1]-1]-true_eval[m.shape[1]-1]))\n",
    "\n",
    "errB_min = np.log(np.abs(eB[:,0]-true_eval[0]))\n",
    "errB_mid = np.log(np.abs(eB[:,np.int(m.shape[1]/2)]-true_eval[np.int(m.shape[1]/2)]))\n",
    "errB_max = np.log(np.abs(eB[:,m.shape[1]-1]-true_eval[m.shape[1]-1]))\n",
    "\n",
    "errC_min = np.log(np.abs(eC[:,0]-true_eval[0]))\n",
    "errC_mid = np.log(np.abs(eC[:,np.int(m.shape[1]/2)]-true_eval[np.int(m.shape[1]/2)]))\n",
    "errC_max = np.log(np.abs(eC[:,m.shape[1]-1]-true_eval[m.shape[1]-1]))"
   ]
  },
  {
   "cell_type": "code",
   "execution_count": 245,
   "metadata": {},
   "outputs": [
    {
     "data": {
      "text/plain": [
       "Text(0.5, 1.0, 'Error using PURE QR')"
      ]
     },
     "execution_count": 245,
     "metadata": {},
     "output_type": "execute_result"
    },
    {
     "data": {
      "image/png": "[encoded data removed]",
      "text/plain": [
       "<Figure size 432x288 with 1 Axes>"
      ]
     },
     "metadata": {
      "needs_background": "light"
     },
     "output_type": "display_data"
    }
   ],
   "source": [
    "import matplotlib.pyplot as plt\n",
    "\n",
    "# Plotting the error\n",
    "\n",
    "plt.plot(errA_min, 'b--',errA_mid, 'r--',errA_max, 'y-')\n",
    "plt.xlabel('Iteration, n')\n",
    "plt.ylabel('Log Error')\n",
    "plt.title('Error using PURE QR')\n",
    "\n",
    "# In Blue is the path taken by the estimate of the smallest eigenvalue\n",
    "# In Red is the path taken by the estimate of the middle eigenvalue\n",
    "# In Yellow is the path taken by the estimate of the largest eigenvalue\n"
   ]
  },
  {
   "cell_type": "code",
   "execution_count": 246,
   "metadata": {},
   "outputs": [
    {
     "data": {
      "text/plain": [
       "Text(0.5, 1.0, 'Error using SHIFT QR')"
      ]
     },
     "execution_count": 246,
     "metadata": {},
     "output_type": "execute_result"
    },
    {
     "data": {
      "image/png": "[encoded data removed]",
      "text/plain": [
       "<Figure size 432x288 with 1 Axes>"
      ]
     },
     "metadata": {
      "needs_background": "light"
     },
     "output_type": "display_data"
    }
   ],
   "source": [
    "plt.plot(errB_min, 'b--',errB_mid, 'r--',errB_max, 'y-')\n",
    "plt.xlabel('Iteration, n')\n",
    "plt.ylabel('Log Error')\n",
    "plt.title('Error using SHIFT QR')\n",
    "\n",
    "# In Blue is the path taken by the estimate of the smallest eigenvalue\n",
    "# In Red is the path taken by the estimate of the middle eigenvalue\n",
    "# In Yellow is the path taken by the estimate of the largest eigenvalue\n"
   ]
  },
  {
   "cell_type": "code",
   "execution_count": 247,
   "metadata": {},
   "outputs": [
    {
     "data": {
      "text/plain": [
       "Text(0.5, 1.0, 'Error using WILKINSON QR')"
      ]
     },
     "execution_count": 247,
     "metadata": {},
     "output_type": "execute_result"
    },
    {
     "data": {
      "image/png": "[encoded data removed]",
      "text/plain": [
       "<Figure size 432x288 with 1 Axes>"
      ]
     },
     "metadata": {
      "needs_background": "light"
     },
     "output_type": "display_data"
    }
   ],
   "source": [
    "plt.plot(errC_min, 'b--',errC_mid, 'r--',errC_max, 'y-')\n",
    "plt.xlabel('Iteration, n')\n",
    "plt.ylabel('Log Error')\n",
    "plt.title('Error using WILKINSON QR')\n",
    "\n",
    "# In Blue is the path taken by the estimate of the smallest eigenvalue\n",
    "# In Red is the path taken by the estimate of the middle eigenvalue\n",
    "# In Yellow is the path taken by the estimate of the largest eigenvalue\n"
   ]
  },
  {
   "cell_type": "code",
   "execution_count": 248,
   "metadata": {},
   "outputs": [],
   "source": [
    "#*#*#*#*#*#*#*#*#*#*#*#*\n",
    "#*         Q7         *#\n",
    "#*#*#*#*#*#*#*#*#*#*#*#*\n",
    "\n",
    "# In this section we modify the QR algorithm so that we are reducing the matrix\n",
    "# everytime the last subdiagonal element shrinks to near our Tolerance factor\n",
    "\n",
    "\n",
    "def QR_pure(m, nmax, TOL):\n",
    "    T, Q = tridiagonal(m)       # using the tridiagonal form of m\n",
    "    A = T\n",
    "    it = 1\n",
    "    estimated_eigen = np.sort(np.diag(A))\n",
    "    \n",
    "    while np.abs(A[m.shape[1]-1,m.shape[1]-2]) > TOL:\n",
    "        R, Q = householder(A)\n",
    "        A = np.dot(R,Q)\n",
    "        estimated_eigen = np.vstack([estimated_eigen,np.sort(np.diag(A))])\n",
    "        test = A[m.shape[1]-1,m.shape[1]-1]\n",
    "        it = it+1\n",
    "        if it > nmax:\n",
    "            break\n",
    "    return A, estimated_eigen, it\n",
    "\n",
    "\n",
    "def QR_shift(m, nmax, TOL):\n",
    "    T, Q = tridiagonal(m)                                     # using the tridiagonal form of m\n",
    "    A = T\n",
    "    it = 1                                                    # Counts the number of iterations\n",
    "    estimated_eigen = np.sort(np.diag(A))                     # Stores the intermediate eigenvalues\n",
    "    mu = A[m.shape[1]-1,m.shape[1]-1]                         # mu based on Rayleigh Coefficient \n",
    "    \n",
    "    while np.abs(A[m.shape[1]-1,m.shape[1]-2]) > TOL:\n",
    "        R, Q = householder(A-mu*np.eye(m.shape[1]))           # QR using Householder\n",
    "        A = np.dot(R,Q)+mu*np.eye(m.shape[1])\n",
    "        mu = A[m.shape[1]-1,m.shape[1]-1]\n",
    "        estimated_eigen = np.vstack([estimated_eigen,np.sort(np.diag(A))])\n",
    "        \n",
    "        it = it+1\n",
    "        if it > nmax:\n",
    "            break\n",
    "    return A, estimated_eigen, it\n",
    "\n",
    "def QR_wilkinson(m, nmax, TOL):\n",
    "    T, Q = tridiagonal(m)                                     # using the tridiagonal form of m\n",
    "    A = T\n",
    "    it = 1                                                    # Counts the number of iterations\n",
    "    estimated_eigen = np.sort(np.diag(A))                     # Stores the intermediate eigenvalues\n",
    "    B = A[(A.shape[1]-2):,(A.shape[1]-2):]\n",
    "    delta = (B[0,0]-B[1,1])/2\n",
    "    mu = B[1,1]-np.sign(delta)*(B[0,1]**2)/(np.abs(delta)+(delta**2+B[0,1]**2)**0.5)\n",
    "                                                              # mu based on Wilkinson\n",
    "    while np.abs(A[m.shape[1]-1,m.shape[1]-2]) > TOL:\n",
    "        R, Q = householder(A-mu*np.eye(m.shape[1]))           # QR using Householder\n",
    "        A = np.dot(R,Q)+mu*np.eye(m.shape[1])\n",
    "        B = A[(A.shape[1]-2):,(A.shape[1]-2):]\n",
    "        delta = (B[0,0]-B[1,1])/2\n",
    "        mu = B[1,1]-np.sign(delta)*(B[0,1]**2)/(np.abs(delta)+(delta**2+B[0,1]**2)**0.5)\n",
    "        estimated_eigen = np.vstack([estimated_eigen,np.sort(np.diag(A))])\n",
    "        \n",
    "        it = it+1\n",
    "        if it > nmax:\n",
    "            break\n",
    "    return A, estimated_eigen, it\n",
    "\n",
    "\n",
    "\n",
    "#*#*#*#*#*#*#*#*#*#*#*#*\n",
    "#*    Deflationary    *#\n",
    "#*#*#*#*#*#*#*#*#*#*#*#*\n",
    "\n",
    "def modified_QR_pure(m):\n",
    "    i = 0\n",
    "    A = m\n",
    "    n = m.shape[1]-1\n",
    "    evals = np.zeros(m.shape[1])\n",
    "    iTeR = 1\n",
    "    \n",
    "    if m.shape[1] > 2:\n",
    "        A, eA, itA = QR_pure(m, 1000, 1e-10)\n",
    "        evals[n] = A[n,n]\n",
    "        while n>=2:\n",
    "            n = n-1\n",
    "            A, eA, itA = QR_pure(A[:n+1,:n+1], 1000, 1e-10)\n",
    "            evals[n] = A[n,n]\n",
    "            iTeR = iTeR+itA\n",
    "            \n",
    "        evals[0:2] = np.diag(A)\n",
    "    else:\n",
    "        A, eA, itA = QR_pure(m, 1000, 1e-10)\n",
    "        evals[0:2] = np.diag(A)\n",
    "    \n",
    "    return evals, iTeR\n",
    "\n",
    "\n",
    "\n",
    "\n",
    "\n",
    "def modified_QR_shift(m):\n",
    "    i = 0\n",
    "    A = m\n",
    "    n = m.shape[1]-1\n",
    "    evals = np.zeros(m.shape[1])\n",
    "    iTeR = 1\n",
    "    \n",
    "    if m.shape[1] > 2:\n",
    "        A, eA, itA = QR_pure(m, 1000, 1e-10)\n",
    "        evals[n] = A[n,n]\n",
    "        while n>=2:\n",
    "\n",
    "            n = n-1\n",
    "            A, eA, itA = QR_shift(A[:n+1,:n+1], 1000, 1e-10)\n",
    "            evals[n] = A[n,n]\n",
    "            iTeR = iTeR+itA\n",
    "            \n",
    "        evals[0:2] = np.diag(A)\n",
    "    else:\n",
    "        A, eA, itA = QR_pure(m, 1000, 1e-10)\n",
    "        evals[0:2] = np.diag(A)\n",
    "    \n",
    "    return evals, iTeR\n",
    "\n",
    "\n",
    "\n",
    "\n",
    "def modified_QR_wilkinson(m):\n",
    "    i = 0\n",
    "    A = m\n",
    "    n = m.shape[1]-1\n",
    "    evals = np.zeros(m.shape[1])\n",
    "    iTeR = 1\n",
    "    if m.shape[1] > 2:\n",
    "        A, eA, itA = QR_pure(m, 1000, 1e-10)\n",
    "        evals[n] = A[n,n]\n",
    "        while n>=2:\n",
    "\n",
    "            n = n-1; \n",
    "            A, eA, itA = QR_wilkinson(A[:n+1,:n+1], 1000, 1e-10)\n",
    "            evals[n] = A[n,n]\n",
    "            iTeR = iTeR+itA\n",
    "            \n",
    "        evals[0:2] = np.diag(A)\n",
    "    else:\n",
    "        A, eA, itA = QR_pure(m, 1000, 1e-10)\n",
    "        evals[0:2] = np.diag(A)\n",
    "    \n",
    "    return evals, iTeR\n",
    "\n",
    "\n",
    "\n",
    "# Generate a random matrix\n",
    "np.random.seed(54321)\n",
    "n = 10\n",
    "m = np.random.uniform(-10,10,[n,n])\n",
    "R, Q = householder(m)\n",
    "\n",
    "#Lambda = np.diag(np.random.randint(-2,2,[n]))       # Repeated Eigenvalue\n",
    "#Lambda = np.diag(np.random.uniform(-0.001,0.001,[n]))       # Extremely Small Eigenvalue\n",
    "Lambda = np.diag(np.random.uniform(900,1000,[n]))       # Extremely Large Eigenvalue\n",
    "m = np.dot(np.dot(Q.T, Lambda),Q)\n",
    "\n",
    "# print(np.round(m,2))\n"
   ]
  },
  {
   "cell_type": "code",
   "execution_count": 249,
   "metadata": {},
   "outputs": [],
   "source": [
    "eA, itA = modified_QR_pure(m)\n",
    "eB, itB = modified_QR_shift(m)\n",
    "eC, itC = modified_QR_wilkinson(m)"
   ]
  },
  {
   "cell_type": "code",
   "execution_count": 250,
   "metadata": {},
   "outputs": [
    {
     "name": "stdout",
     "output_type": "stream",
     "text": [
      "True eigenvalues are:\n",
      "[901.605 928.716 930.678 940.958 951.9   957.21  962.711 968.461 975.818\n",
      " 992.812]\n",
      "\n",
      "\n",
      "\n",
      "The eigenvalues for m from PURE QR are:\n",
      "[901.605 928.716 930.677 940.958 951.901 957.21  962.711 968.461 975.818\n",
      " 992.812]\n",
      "Iterations needed:\n",
      "8009\n",
      "\n",
      "\n",
      "\n",
      "The eigenvalues for m from SHIFT QR are:\n",
      "[901.605 928.716 930.678 940.958 951.9   957.21  962.711 968.461 975.818\n",
      " 992.812]\n",
      "Iterations needed:\n",
      "1186\n",
      "\n",
      "\n",
      "\n",
      "The eigenvalues for m from WILKINSON QR are:\n",
      "[901.605 928.716 930.678 940.958 951.9   957.21  962.711 968.461 975.818\n",
      " 992.812]\n",
      "Iterations needed:\n",
      "201\n"
     ]
    }
   ],
   "source": [
    "print(\"True eigenvalues are:\")\n",
    "print(np.sort(np.round(np.diag(Lambda),3)))\n",
    "\n",
    "print(\"\\n\"+\"\\n\")\n",
    "print(\"The eigenvalues for m from PURE QR are:\")\n",
    "print(np.sort(np.round(eA,3)))\n",
    "print(\"Iterations needed:\")\n",
    "print(itA)\n",
    "\n",
    "print(\"\\n\"+\"\\n\")\n",
    "print(\"The eigenvalues for m from SHIFT QR are:\")\n",
    "print(np.sort(np.round(eB,3)))\n",
    "print(\"Iterations needed:\")\n",
    "print(itB)\n",
    "\n",
    "print(\"\\n\"+\"\\n\")\n",
    "print(\"The eigenvalues for m from WILKINSON QR are:\")\n",
    "print(np.sort(np.round(eC,3)))\n",
    "print(\"Iterations needed:\")\n",
    "print(itC)"
   ]
  },
  {
   "cell_type": "code",
   "execution_count": 251,
   "metadata": {},
   "outputs": [],
   "source": [
    "# We comment on the results:\n",
    "\n",
    "\n",
    "# We can see that from the PURE QR algorithm the number of iterations needed is very large.\n",
    "# Even by deflating the matrix after every eigne value has been calculated there is a significantly\n",
    "# higher number of iterations. On the other hand for the methods with shifts we actually see \n",
    "# that there is much faster convergence. Both Rayleigh-Shift and Wilkinson shift are able to locate\n",
    "# the eigenvalues fairly quickly.\n",
    "\n"
   ]
  },
  {
   "cell_type": "code",
   "execution_count": 252,
   "metadata": {},
   "outputs": [
    {
     "data": {
      "text/plain": [
       "Text(0.5, 1.0, 'Error using Cropped-QR Algorithms')"
      ]
     },
     "execution_count": 252,
     "metadata": {},
     "output_type": "execute_result"
    },
    {
     "data": {
      "image/png": "[encoded data removed]",
      "text/plain": [
       "<Figure size 432x288 with 1 Axes>"
      ]
     },
     "metadata": {
      "needs_background": "light"
     },
     "output_type": "display_data"
    }
   ],
   "source": [
    "t = range(1,(n+1))\n",
    "plt.plot(t, np.log(np.abs(np.sort(eA)-np.sort(np.diag(Lambda)))),'g',\n",
    "         t, np.log(np.abs(np.sort(eB)-np.sort(np.diag(Lambda)))),'r',\n",
    "         t, np.log(np.abs(np.sort(eC)-np.sort(np.diag(Lambda)))),'b' )\n",
    "plt.xlabel('nth Eigenvalue')\n",
    "plt.ylabel('Log absolute error')\n",
    "plt.title('Error using Cropped-QR Algorithms')\n",
    "\n",
    "# Green shows the pure QR\n",
    "# Red shows the shift QR\n",
    "# Blue shows the Wilkinson QR\n",
    "\n"
   ]
  },
  {
   "cell_type": "code",
   "execution_count": null,
   "metadata": {},
   "outputs": [],
   "source": []
  },
  {
   "cell_type": "code",
   "execution_count": null,
   "metadata": {},
   "outputs": [],
   "source": []
  }
 ],
 "metadata": {
  "kernelspec": {
   "display_name": "Python 3",
   "language": "python",
   "name": "python3"
  },
  "language_info": {
   "codemirror_mode": {
    "name": "ipython",
    "version": 3
   },
   "file_extension": ".py",
   "mimetype": "text/x-python",
   "name": "python",
   "nbconvert_exporter": "python",
   "pygments_lexer": "ipython3",
   "version": "3.8.3"
  }
 },
 "nbformat": 4,
 "nbformat_minor": 4
}
